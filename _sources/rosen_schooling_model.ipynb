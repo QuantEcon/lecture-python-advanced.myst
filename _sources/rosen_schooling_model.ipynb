{
 "cells": [
  {
   "cell_type": "markdown",
   "id": "2aaa32a8",
   "metadata": {},
   "source": [
    "(rosen_schooling_model)=\n",
    "```{raw} html\n",
    "<div id=\"qe-notebook-header\" align=\"right\" style=\"text-align:right;\">\n",
    "        <a href=\"https://quantecon.org/\" title=\"quantecon.org\">\n",
    "                <img style=\"width:250px;display:inline;\" width=\"250px\" src=\"https://assets.quantecon.org/img/qe-menubar-logo.svg\" alt=\"QuantEcon\">\n",
    "        </a>\n",
    "</div>\n",
    "```\n",
    "\n",
    "```{index} single: python\n",
    "```\n",
    "\n",
    "# Rosen Schooling Model\n",
    "\n",
    "```{contents} Contents\n",
    ":depth: 2\n",
    "```\n",
    "\n",
    "This lecture is yet another part of a suite of lectures that use the quantecon DLE class to instantiate models within the\n",
    "{cite}`HS2013` class of models described in detail in {doc}`Recursive Models of Dynamic Linear Economies <hs_recursive_models>`.\n",
    "\n",
    "In addition to what's included in  Anaconda, this lecture uses the quantecon library"
   ]
  },
  {
   "cell_type": "code",
   "execution_count": 1,
   "id": "04c16257",
   "metadata": {
    "tags": [
     "hide-output"
    ]
   },
   "outputs": [
    {
     "name": "stdout",
     "output_type": "stream",
     "text": [
      "Requirement already satisfied: quantecon in /usr/share/miniconda3/envs/quantecon/lib/python3.9/site-packages (0.5.3)\r\n"
     ]
    },
    {
     "name": "stdout",
     "output_type": "stream",
     "text": [
      "Requirement already satisfied: sympy in /usr/share/miniconda3/envs/quantecon/lib/python3.9/site-packages (from quantecon) (1.10.1)\r\n",
      "Requirement already satisfied: scipy>=1.0.0 in /usr/share/miniconda3/envs/quantecon/lib/python3.9/site-packages (from quantecon) (1.7.3)\r\n",
      "Requirement already satisfied: requests in /usr/share/miniconda3/envs/quantecon/lib/python3.9/site-packages (from quantecon) (2.27.1)\r\n",
      "Requirement already satisfied: numba in /usr/share/miniconda3/envs/quantecon/lib/python3.9/site-packages (from quantecon) (0.55.1)\r\n",
      "Requirement already satisfied: numpy in /usr/share/miniconda3/envs/quantecon/lib/python3.9/site-packages (from quantecon) (1.21.5)\r\n",
      "Requirement already satisfied: llvmlite<0.39,>=0.38.0rc1 in /usr/share/miniconda3/envs/quantecon/lib/python3.9/site-packages (from numba->quantecon) (0.38.0)\r\n",
      "Requirement already satisfied: setuptools in /usr/share/miniconda3/envs/quantecon/lib/python3.9/site-packages (from numba->quantecon) (61.2.0)\r\n",
      "Requirement already satisfied: charset-normalizer~=2.0.0 in /usr/share/miniconda3/envs/quantecon/lib/python3.9/site-packages (from requests->quantecon) (2.0.4)\r\n",
      "Requirement already satisfied: certifi>=2017.4.17 in /usr/share/miniconda3/envs/quantecon/lib/python3.9/site-packages (from requests->quantecon) (2021.10.8)\r\n",
      "Requirement already satisfied: idna<4,>=2.5 in /usr/share/miniconda3/envs/quantecon/lib/python3.9/site-packages (from requests->quantecon) (3.3)\r\n",
      "Requirement already satisfied: urllib3<1.27,>=1.21.1 in /usr/share/miniconda3/envs/quantecon/lib/python3.9/site-packages (from requests->quantecon) (1.26.9)\r\n",
      "Requirement already satisfied: mpmath>=0.19 in /usr/share/miniconda3/envs/quantecon/lib/python3.9/site-packages (from sympy->quantecon) (1.2.1)\r\n"
     ]
    }
   ],
   "source": [
    "!pip install --upgrade quantecon"
   ]
  },
  {
   "cell_type": "markdown",
   "id": "b6b39c7b",
   "metadata": {},
   "source": [
    "We'll also need the following imports:"
   ]
  },
  {
   "cell_type": "code",
   "execution_count": 2,
   "id": "f4c1e3c6",
   "metadata": {},
   "outputs": [],
   "source": [
    "import numpy as np\n",
    "import matplotlib.pyplot as plt\n",
    "from quantecon import LQ\n",
    "from collections import namedtuple\n",
    "from quantecon import DLE\n",
    "from math import sqrt\n",
    "%matplotlib inline"
   ]
  },
  {
   "cell_type": "markdown",
   "id": "44084adf",
   "metadata": {},
   "source": [
    "## A One-Occupation Model\n",
    "\n",
    "Ryoo and Rosen's (2004) {cite}`ryoo2004engineering` partial equilibrium model determines\n",
    "\n",
    "- a stock of \"Engineers\" $N_t$\n",
    "- a number of new entrants in engineering school, $n_t$\n",
    "- the wage rate of engineers, $w_t$\n",
    "\n",
    "It takes k periods of schooling to become an engineer.\n",
    "\n",
    "The model consists of the following equations:\n",
    "\n",
    "- a demand curve for engineers:\n",
    "\n",
    "$$\n",
    "w_t = - \\alpha_d N_t + \\epsilon_{dt}\n",
    "$$\n",
    "\n",
    "- a time-to-build structure of the education process:\n",
    "\n",
    "$$\n",
    "N_{t+k} = \\delta_N N_{t+k-1} + n_t\n",
    "$$\n",
    "\n",
    "- a definition of the discounted present value of each new engineering\n",
    "  student:\n",
    "\n",
    "$$\n",
    "v_t = \\beta_k \\mathbb{E} \\sum_{j=0}^\\infty (\\beta \\delta_N)^j w_{t+k+j}\n",
    "$$\n",
    "\n",
    "- a supply curve of new students driven by present value $v_t$:\n",
    "\n",
    "$$\n",
    "n_t = \\alpha_s v_t + \\epsilon_{st}\n",
    "$$\n",
    "\n",
    "## Mapping into HS2013 Framework\n",
    "\n",
    "We represent this model in the {cite}`HS2013` framework by\n",
    "\n",
    "- sweeping the time-to-build structure and the demand for engineers\n",
    "  into the household technology, and\n",
    "- putting the supply of engineers into the technology for producing\n",
    "  goods\n",
    "\n",
    "### Preferences\n",
    "\n",
    "$$\n",
    "\\Pi = 0, \\Lambda=\n",
    "\\begin{bmatrix}\n",
    "   \\alpha_d & 0 & \\cdots & 0\n",
    "   \\end{bmatrix}\n",
    ", \\Delta_h =\n",
    "\\begin{bmatrix}\n",
    "   \\delta_N & 1 & 0 & \\cdots & 0 \\\\ 0 & 0 & 1 & \\cdots & 0 \\\\ \\vdots & \\vdots & \\vdots & \\ddots & \\vdots \\\\ 0 & \\cdots& \\cdots & 0 & 1 \\\\ 0 & 0 & 0 & \\cdots & 0\n",
    "   \\end{bmatrix}\n",
    "   , \\Theta_h =\n",
    "\\begin{bmatrix}\n",
    "   0 \\\\ 0 \\\\ \\vdots \\\\ 0 \\\\ 1\n",
    "   \\end{bmatrix}\n",
    "$$\n",
    "\n",
    "where $\\Lambda$ is a k+1 x 1 matrix, $\\Delta_h$ is a k_1 x\n",
    "k+1 matrix, and $\\Theta_h$ is a k+1 x 1 matrix.\n",
    "\n",
    "This specification sets $N_t = h_{1t-1}$, $n_t = c_t$,\n",
    "$h_{\\tau+1,t-1} = n_{t-(k-\\tau)}$ for $\\tau = 1,...,k$.\n",
    "\n",
    "Below we set things up so that the number of years of education, $k$, can\n",
    "be varied.\n",
    "\n",
    "### Technology\n",
    "\n",
    "To capture Ryoo and Rosen's {cite}`ryoo2004engineering` supply curve, we use the physical\n",
    "technology:\n",
    "\n",
    "$$\n",
    "c_t = i_t + d_{1t}\n",
    "$$\n",
    "\n",
    "$$\n",
    "\\psi_1i_t = g_t\n",
    "$$\n",
    "\n",
    "where $\\psi_1$ is inversely proportional to $\\alpha_s$.\n",
    "\n",
    "### Information\n",
    "\n",
    "Because we  want $b_t = \\epsilon_{dt}$ and $d_{1t} =\\epsilon_{st}$, we set\n",
    "\n",
    "$$\n",
    "A_{22}=\n",
    "\\begin{bmatrix}\n",
    "   1 & 0 & 0 \\\\ 0 & \\rho_s & 0 \\\\ 0 & 0 & \\rho_d\n",
    "   \\end{bmatrix}\n",
    ",   C_2 =\n",
    "\\begin{bmatrix}\n",
    "   0 & 0 \\\\ 1 & 0 \\\\ 0 & 1\n",
    "   \\end{bmatrix}\n",
    ",   U_b =\n",
    "\\begin{bmatrix}\n",
    "   30 & 0 & 1\n",
    "   \\end{bmatrix}\n",
    ",   U_d =\n",
    "\\begin{bmatrix}\n",
    "   10 & 1 & 0 \\\\ 0 & 0 & 0\n",
    "   \\end{bmatrix}\n",
    "$$\n",
    "\n",
    "where $\\rho_s$ and $\\rho_d$ describe the persistence of the\n",
    "supply and demand shocks"
   ]
  },
  {
   "cell_type": "code",
   "execution_count": 3,
   "id": "a7d830dd",
   "metadata": {},
   "outputs": [],
   "source": [
    "Information = namedtuple('Information', ['a22', 'c2','ub','ud'])\n",
    "Technology = namedtuple('Technology', ['ϕ_c', 'ϕ_g', 'ϕ_i', 'γ', 'δ_k', 'θ_k'])\n",
    "Preferences = namedtuple('Preferences', ['β', 'l_λ', 'π_h', 'δ_h', 'θ_h'])"
   ]
  },
  {
   "cell_type": "markdown",
   "id": "93cad360",
   "metadata": {},
   "source": [
    "### Effects of Changes in Education Technology and Demand\n",
    "\n",
    "We now study how changing\n",
    "\n",
    "- the number of years of education required to become an engineer and\n",
    "- the slope of the demand curve\n",
    "\n",
    "affects responses to demand shocks.\n",
    "\n",
    "To begin, we set $k = 4$ and $\\alpha_d = 0.1$"
   ]
  },
  {
   "cell_type": "code",
   "execution_count": 4,
   "id": "cf6914ed",
   "metadata": {},
   "outputs": [],
   "source": [
    "k = 4  # Number of periods of schooling required to become an engineer\n",
    "\n",
    "β = np.array([[1 / 1.05]])\n",
    "α_d = np.array([[0.1]])\n",
    "α_s = 1\n",
    "ε_1 = 1e-7\n",
    "λ_1 = np.full((1, k), ε_1)\n",
    "# Use of ε_1 is trick to aquire detectability, see HS2013 p. 228 footnote 4\n",
    "l_λ = np.hstack((α_d, λ_1))\n",
    "π_h = np.array([[0]])\n",
    "\n",
    "δ_n = np.array([[0.95]])\n",
    "d1 = np.vstack((δ_n, np.zeros((k - 1, 1))))\n",
    "d2 = np.hstack((d1, np.eye(k)))\n",
    "δ_h = np.vstack((d2, np.zeros((1, k + 1))))\n",
    "\n",
    "θ_h = np.vstack((np.zeros((k, 1)),\n",
    "                 np.ones((1, 1))))\n",
    "\n",
    "ψ_1 = 1 / α_s\n",
    "\n",
    "ϕ_c = np.array([[1], [0]])\n",
    "ϕ_g = np.array([[0], [-1]])\n",
    "ϕ_i = np.array([[-1], [ψ_1]])\n",
    "γ = np.array([[0], [0]])\n",
    "\n",
    "δ_k = np.array([[0]])\n",
    "θ_k = np.array([[0]])\n",
    "\n",
    "ρ_s = 0.8\n",
    "ρ_d = 0.8\n",
    "\n",
    "a22 = np.array([[1,   0,   0],\n",
    "                [0, ρ_s,   0],\n",
    "                [0,   0, ρ_d]])\n",
    "\n",
    "c2 = np.array([[0, 0], [10, 0], [0, 10]])\n",
    "ub = np.array([[30, 0, 1]])\n",
    "ud = np.array([[10, 1, 0], [0, 0, 0]])\n",
    "\n",
    "info1 = Information(a22, c2, ub, ud)\n",
    "tech1 = Technology(ϕ_c, ϕ_g, ϕ_i, γ, δ_k, θ_k)\n",
    "pref1 = Preferences(β, l_λ, π_h, δ_h, θ_h)\n",
    "\n",
    "econ1 = DLE(info1, tech1, pref1)"
   ]
  },
  {
   "cell_type": "markdown",
   "id": "f3ff870b",
   "metadata": {},
   "source": [
    "We create three other instances by:\n",
    "\n",
    "1. Raising $\\alpha_d$ to 2\n",
    "1. Raising $k$ to 7\n",
    "1. Raising $k$ to 10"
   ]
  },
  {
   "cell_type": "code",
   "execution_count": 5,
   "id": "a166fc8f",
   "metadata": {},
   "outputs": [],
   "source": [
    "α_d = np.array([[2]])\n",
    "l_λ = np.hstack((α_d, λ_1))\n",
    "pref2 = Preferences(β, l_λ, π_h, δ_h, θ_h)\n",
    "econ2 = DLE(info1, tech1, pref2)\n",
    "\n",
    "α_d = np.array([[0.1]])\n",
    "\n",
    "k = 7\n",
    "λ_1 = np.full((1, k), ε_1)\n",
    "l_λ = np.hstack((α_d, λ_1))\n",
    "d1 = np.vstack((δ_n, np.zeros((k - 1, 1))))\n",
    "d2 = np.hstack((d1, np.eye(k)))\n",
    "δ_h = np.vstack((d2, np.zeros((1, k+1))))\n",
    "θ_h = np.vstack((np.zeros((k, 1)),\n",
    "                 np.ones((1, 1))))\n",
    "\n",
    "Pref3 = Preferences(β, l_λ, π_h, δ_h, θ_h)\n",
    "econ3 = DLE(info1, tech1, Pref3)\n",
    "\n",
    "k = 10\n",
    "λ_1 = np.full((1, k), ε_1)\n",
    "l_λ = np.hstack((α_d, λ_1))\n",
    "d1 = np.vstack((δ_n, np.zeros((k - 1, 1))))\n",
    "d2 = np.hstack((d1, np.eye(k)))\n",
    "δ_h = np.vstack((d2, np.zeros((1, k + 1))))\n",
    "θ_h = np.vstack((np.zeros((k, 1)),\n",
    "                 np.ones((1, 1))))\n",
    "\n",
    "pref4 = Preferences(β, l_λ, π_h, δ_h, θ_h)\n",
    "econ4 = DLE(info1, tech1, pref4)\n",
    "\n",
    "shock_demand = np.array([[0], [1]])\n",
    "\n",
    "econ1.irf(ts_length=25, shock=shock_demand)\n",
    "econ2.irf(ts_length=25, shock=shock_demand)\n",
    "econ3.irf(ts_length=25, shock=shock_demand)\n",
    "econ4.irf(ts_length=25, shock=shock_demand)"
   ]
  },
  {
   "cell_type": "markdown",
   "id": "e318a467",
   "metadata": {},
   "source": [
    "The first figure plots the impulse response of $n_t$ (on the left)\n",
    "and $N_t$ (on the right) to a positive demand shock, for\n",
    "$\\alpha_d = 0.1$ and $\\alpha_d = 2$.\n",
    "\n",
    "When $\\alpha_d = 2$, the number of new students $n_t$ rises\n",
    "initially, but the response then turns negative.\n",
    "\n",
    "A positive demand shock raises wages, drawing new students into the\n",
    "profession.\n",
    "\n",
    "However, these new students raise $N_t$.\n",
    "\n",
    "The higher is $\\alpha_d$, the larger the effect of this rise in\n",
    "$N_t$ on wages.\n",
    "\n",
    "This counteracts the demand shock's positive effect on wages, reducing\n",
    "the number of new students in subsequent periods.\n",
    "\n",
    "Consequently, when $\\alpha_d$ is lower, the effect of a demand\n",
    "shock on $N_t$ is larger"
   ]
  },
  {
   "cell_type": "code",
   "execution_count": 6,
   "id": "f32ea285",
   "metadata": {},
   "outputs": [
    {
     "data": {
      "image/png": "[encoded data removed]",
      "text/plain": [
       "<Figure size 864x288 with 2 Axes>"
      ]
     },
     "metadata": {
      "filenames": {
       "image/png": "/home/runner/work/lecture-python-advanced.myst/lecture-python-advanced.myst/_build/jupyter_execute/rosen_schooling_model_11_0.png"
      },
      "needs_background": "light"
     },
     "output_type": "display_data"
    }
   ],
   "source": [
    "fig, (ax1, ax2) = plt.subplots(1, 2, figsize=(12, 4))\n",
    "ax1.plot(econ1.c_irf,label='$\\\\alpha_d = 0.1$')\n",
    "ax1.plot(econ2.c_irf,label='$\\\\alpha_d = 2$')\n",
    "ax1.legend()\n",
    "ax1.set_title('Response of $n_t$ to a demand shock')\n",
    "\n",
    "ax2.plot(econ1.h_irf[:, 0], label='$\\\\alpha_d = 0.1$')\n",
    "ax2.plot(econ2.h_irf[:, 0], label='$\\\\alpha_d = 24$')\n",
    "ax2.legend()\n",
    "ax2.set_title('Response of $N_t$ to a demand shock')\n",
    "plt.show()"
   ]
  },
  {
   "cell_type": "markdown",
   "id": "4f1e1e9d",
   "metadata": {},
   "source": [
    "The next figure plots the impulse response of $n_t$ (on the left)\n",
    "and $N_t$ (on the right) to a positive demand shock, for\n",
    "$k=4$, $k=7$ and $k=10$ (with $\\alpha_d = 0.1$)"
   ]
  },
  {
   "cell_type": "code",
   "execution_count": 7,
   "id": "446bf14f",
   "metadata": {},
   "outputs": [
    {
     "data": {
      "image/png": "[encoded data removed]",
      "text/plain": [
       "<Figure size 864x288 with 2 Axes>"
      ]
     },
     "metadata": {
      "filenames": {
       "image/png": "/home/runner/work/lecture-python-advanced.myst/lecture-python-advanced.myst/_build/jupyter_execute/rosen_schooling_model_13_0.png"
      },
      "needs_background": "light"
     },
     "output_type": "display_data"
    }
   ],
   "source": [
    "fig, (ax1, ax2) = plt.subplots(1, 2, figsize=(12, 4))\n",
    "ax1.plot(econ1.c_irf, label='$k=4$')\n",
    "ax1.plot(econ3.c_irf, label='$k=7$')\n",
    "ax1.plot(econ4.c_irf, label='$k=10$')\n",
    "ax1.legend()\n",
    "ax1.set_title('Response of $n_t$ to a demand shock')\n",
    "\n",
    "ax2.plot(econ1.h_irf[:,0], label='$k=4$')\n",
    "ax2.plot(econ3.h_irf[:,0], label='$k=7$')\n",
    "ax2.plot(econ4.h_irf[:,0], label='$k=10$')\n",
    "ax2.legend()\n",
    "ax2.set_title('Response of $N_t$ to a demand shock')\n",
    "plt.show()"
   ]
  },
  {
   "cell_type": "markdown",
   "id": "99c963cd",
   "metadata": {},
   "source": [
    "Both panels in the above figure show that raising $k$ lowers the effect of\n",
    "a positive demand shock on entry into the engineering profession.\n",
    "\n",
    "Increasing the number of periods of schooling lowers\n",
    "the number of new students in response to a demand shock.\n",
    "\n",
    "This occurs because  with longer required schooling, new students ultimately benefit less from the impact of that shock on wages."
   ]
  }
 ],
 "metadata": {
  "jupytext": {
   "text_representation": {
    "extension": ".md",
    "format_name": "myst"
   }
  },
  "kernelspec": {
   "display_name": "Python 3",
   "language": "python",
   "name": "python3"
  },
  "language_info": {
   "codemirror_mode": {
    "name": "ipython",
    "version": 3
   },
   "file_extension": ".py",
   "mimetype": "text/x-python",
   "name": "python",
   "nbconvert_exporter": "python",
   "pygments_lexer": "ipython3",
   "version": "3.9.12"
  },
  "source_map": [
   10,
   35,
   40,
   44,
   52,
   167,
   171,
   184,
   230,
   238,
   276,
   299,
   311,
   317,
   331
  ]
 },
 "nbformat": 4,
 "nbformat_minor": 5
}