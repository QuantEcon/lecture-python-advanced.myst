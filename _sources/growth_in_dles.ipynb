{
 "cells": [
  {
   "cell_type": "markdown",
   "id": "70adb512",
   "metadata": {},
   "source": [
    "(growth_in_dles)=\n",
    "```{raw} html\n",
    "<div id=\"qe-notebook-header\" align=\"right\" style=\"text-align:right;\">\n",
    "        <a href=\"https://quantecon.org/\" title=\"quantecon.org\">\n",
    "                <img style=\"width:250px;display:inline;\" width=\"250px\" src=\"https://assets.quantecon.org/img/qe-menubar-logo.svg\" alt=\"QuantEcon\">\n",
    "        </a>\n",
    "</div>\n",
    "```\n",
    "\n",
    "```{index} single: python\n",
    "```\n",
    "\n",
    "# Growth in Dynamic Linear Economies\n",
    "\n",
    "```{contents} Contents\n",
    ":depth: 2\n",
    "```\n",
    "\n",
    "This is another member of a suite of lectures that use the quantecon DLE class to instantiate models within the\n",
    "{cite}`HS2013` class of models described in detail in {doc}`Recursive Models of Dynamic Linear Economies <hs_recursive_models>`.\n",
    "\n",
    "In addition to what's included in  Anaconda, this lecture uses the quantecon library."
   ]
  },
  {
   "cell_type": "code",
   "execution_count": 1,
   "id": "76a6616f",
   "metadata": {
    "tags": [
     "hide-output"
    ]
   },
   "outputs": [
    {
     "name": "stdout",
     "output_type": "stream",
     "text": [
      "Requirement already satisfied: quantecon in /usr/share/miniconda3/envs/quantecon/lib/python3.9/site-packages (0.6.0)\r\n"
     ]
    },
    {
     "name": "stdout",
     "output_type": "stream",
     "text": [
      "Requirement already satisfied: numba in /usr/share/miniconda3/envs/quantecon/lib/python3.9/site-packages (from quantecon) (0.56.4)\r\n",
      "Requirement already satisfied: scipy>=1.5.0 in /usr/share/miniconda3/envs/quantecon/lib/python3.9/site-packages (from quantecon) (1.7.3)\r\n",
      "Requirement already satisfied: sympy in /usr/share/miniconda3/envs/quantecon/lib/python3.9/site-packages (from quantecon) (1.10.1)\r\n",
      "Requirement already satisfied: requests in /usr/share/miniconda3/envs/quantecon/lib/python3.9/site-packages (from quantecon) (2.27.1)\r\n",
      "Requirement already satisfied: numpy>=1.17.0 in /usr/share/miniconda3/envs/quantecon/lib/python3.9/site-packages (from quantecon) (1.22.4)\r\n",
      "Requirement already satisfied: setuptools in /usr/share/miniconda3/envs/quantecon/lib/python3.9/site-packages (from numba->quantecon) (61.2.0)\r\n",
      "Requirement already satisfied: llvmlite<0.40,>=0.39.0dev0 in /usr/share/miniconda3/envs/quantecon/lib/python3.9/site-packages (from numba->quantecon) (0.39.1)\r\n",
      "Requirement already satisfied: certifi>=2017.4.17 in /usr/share/miniconda3/envs/quantecon/lib/python3.9/site-packages (from requests->quantecon) (2021.10.8)\r\n",
      "Requirement already satisfied: idna<4,>=2.5 in /usr/share/miniconda3/envs/quantecon/lib/python3.9/site-packages (from requests->quantecon) (3.3)\r\n",
      "Requirement already satisfied: urllib3<1.27,>=1.21.1 in /usr/share/miniconda3/envs/quantecon/lib/python3.9/site-packages (from requests->quantecon) (1.26.9)\r\n",
      "Requirement already satisfied: charset-normalizer~=2.0.0 in /usr/share/miniconda3/envs/quantecon/lib/python3.9/site-packages (from requests->quantecon) (2.0.4)\r\n"
     ]
    },
    {
     "name": "stdout",
     "output_type": "stream",
     "text": [
      "Requirement already satisfied: mpmath>=0.19 in /usr/share/miniconda3/envs/quantecon/lib/python3.9/site-packages (from sympy->quantecon) (1.2.1)\r\n"
     ]
    }
   ],
   "source": [
    "!pip install --upgrade quantecon"
   ]
  },
  {
   "cell_type": "markdown",
   "id": "5ee55587",
   "metadata": {},
   "source": [
    "This lecture describes several complete market economies having a\n",
    "common linear-quadratic-Gaussian structure.\n",
    "\n",
    "Three examples of such economies show how the DLE class can be used to\n",
    "compute equilibria of such economies in Python and to illustrate how\n",
    "different versions of these economies can or cannot generate sustained\n",
    "growth.\n",
    "\n",
    "We require the following imports"
   ]
  },
  {
   "cell_type": "code",
   "execution_count": 2,
   "id": "884abae5",
   "metadata": {},
   "outputs": [],
   "source": [
    "import numpy as np\n",
    "import matplotlib.pyplot as plt\n",
    "%matplotlib inline\n",
    "from quantecon import LQ, DLE"
   ]
  },
  {
   "cell_type": "markdown",
   "id": "30b59c86",
   "metadata": {},
   "source": [
    "## Common Structure\n",
    "\n",
    "Our example economies have the following features\n",
    "\n",
    "- Information flows are governed by an exogenous stochastic process\n",
    "  $z_t$ that follows\n",
    "  \n",
    "  $$\n",
    "  z_{t+1} = A_{22}z_t + C_2w_{t+1}\n",
    "  $$\n",
    "  where $w_{t+1}$ is a martingale difference sequence.\n",
    "- Preference shocks $b_t$ and technology shocks $d_t$ are\n",
    "  linear functions of $z_t$\n",
    "  \n",
    "  $$\n",
    "  b_t = U_bz_t\n",
    "  $$\n",
    "  $$\n",
    "  d_t = U_dz_t\n",
    "  $$\n",
    "  \n",
    "- Consumption and physical investment goods are produced using the\n",
    "  following technology\n",
    "  \n",
    "  $$\n",
    "  \\Phi_c c_t + \\Phi_g g_t + \\Phi_i i_t = \\Gamma k_{t-1} + d_t\n",
    "  $$\n",
    "  $$\n",
    "  k_t = \\Delta_k k_{t-1} + \\Theta_k i_t\n",
    "  $$\n",
    "  $$\n",
    "  g_t \\cdot g_t = l_t^2\n",
    "  $$\n",
    "  where $c_t$ is a vector of consumption goods, $g_t$ is a\n",
    "  vector of intermediate goods, $i_t$ is a vector of investment\n",
    "  goods, $k_t$ is a vector of physical capital goods, and\n",
    "  $l_t$ is the amount of labor supplied by the representative\n",
    "  household.\n",
    "- Preferences of a representative household are described by\n",
    "  \n",
    "  $$\n",
    "  -\\frac{1}{2}\\mathbb{E}\\sum_{t=0}^\\infty \\beta^t [(s_t-b_t)\\cdot(s_t - b_t) + l_t^2], 0 < \\beta < 1\n",
    "  $$\n",
    "  $$\n",
    "  s_t = \\Lambda h_{t-1} + \\Pi c_t\n",
    "  $$\n",
    "  $$\n",
    "  h_t = \\Delta_h h_{t-1} + \\Theta_h c_t\n",
    "  $$\n",
    "  \n",
    "\n",
    "where $s_t$ is a vector of consumption services, and\n",
    "$h_t$ is a vector of household capital stocks.\n",
    "\n",
    "Thus, an instance of this class of economies is described by the\n",
    "matrices\n",
    "\n",
    "$$\n",
    "\\{ A_{22}, C_2, U_b, U_d, \\Phi_c, \\Phi_g, \\Phi_i, \\Gamma, \\Delta_k, \\Theta_k,\\Lambda, \\Pi, \\Delta_h, \\Theta_h \\}\n",
    "$$\n",
    "\n",
    "and the scalar $\\beta$.\n",
    "\n",
    "## A Planning Problem\n",
    "\n",
    "The first welfare theorem asserts that a competitive equilibrium\n",
    "allocation solves the following planning problem.\n",
    "\n",
    "Choose $\\{c_t, s_t, i_t, h_t, k_t, g_t\\}_{t=0}^\\infty$ to maximize\n",
    "\n",
    "$$\n",
    "-\\frac{1}{2}\\mathbb{E}\\sum_{t=0}^\\infty \\beta^t [(s_t-b_t)\\cdot(s_t - b_t) + g_t \\cdot g_t]\n",
    "$$ \n",
    "\n",
    "subject to the linear constraints\n",
    "\n",
    "$$\n",
    "\\Phi_c c_t + \\Phi_g g_t + \\Phi_i i_t = \\Gamma k_{t-1} + d_t\n",
    "$$\n",
    "\n",
    "$$\n",
    "k_t = \\Delta_k k_{t-1} + \\Theta_k i_t\n",
    "$$\n",
    "\n",
    "$$\n",
    "h_t = \\Delta_h h_{t-1} + \\Theta_h c_t\n",
    "$$\n",
    "\n",
    "$$\n",
    "s_t = \\Lambda h_{t-1} + \\Pi c_t\n",
    "$$\n",
    "\n",
    "and\n",
    "\n",
    "$$\n",
    "z_{t+1} = A_{22}z_t + C_2w_{t+1}\n",
    "$$\n",
    "\n",
    "$$\n",
    "b_t = U_bz_t\n",
    "$$\n",
    "\n",
    "$$\n",
    "d_t = U_dz_t\n",
    "$$\n",
    "\n",
    "The DLE class in Python maps this planning problem into a linear-quadratic dynamic programming problem and then solves it by using\n",
    "QuantEcon's LQ class.\n",
    "\n",
    "(See Section 5.5 of Hansen & Sargent (2013) {cite}`HS2013` for a full\n",
    "description of how to map these economies into an LQ setting, and how to\n",
    "use the solution to the LQ problem to construct the output matrices in\n",
    "order to simulate the economies)\n",
    "\n",
    "The state for the LQ problem is\n",
    "\n",
    "$$\n",
    "x_t =\n",
    "\\left[ {\\begin{array}{c}\n",
    "h_{t-1} \\\\ k_{t-1} \\\\ z_t\n",
    "\\end{array} }\n",
    "\\right]\n",
    "$$\n",
    "\n",
    "and the control variable is $u_t = i_t$.\n",
    "\n",
    "Once the LQ problem has been solved, the law of motion for the state is\n",
    "\n",
    "$$\n",
    "x_{t+1} = (A-BF)x_t + Cw_{t+1}\n",
    "$$\n",
    "\n",
    "where the optimal control law is $u_t = -Fx_t$.\n",
    "\n",
    "Letting $A^o = A-BF$ we write this law of motion as\n",
    "\n",
    "$$\n",
    "x_{t+1} = A^ox_t + Cw_{t+1}\n",
    "$$\n",
    "\n",
    "## Example Economies\n",
    "\n",
    "Each of the example economies shown here will share a number of\n",
    "components. In particular, for each we will consider preferences of the\n",
    "form\n",
    "\n",
    "$$\n",
    "- \\frac{1}{2}\\mathbb{E}\\sum_{t=0}^\\infty \\beta^t [(s_t-b_t)^2 + l_t^2], 0 < \\beta < 1\n",
    "$$\n",
    "\n",
    "$$\n",
    "s_t = \\lambda h_{t-1} + \\pi c_t\n",
    "$$\n",
    "\n",
    "$$\n",
    "h_t = \\delta_h h_{t-1} + \\theta_h c_t\n",
    "$$\n",
    "\n",
    "$$\n",
    "b_t = U_bz_t\n",
    "$$\n",
    "\n",
    "Technology of the form\n",
    "\n",
    "$$\n",
    "c_t + i_t = \\gamma_1 k_{t-1} + d_{1t}\n",
    "$$\n",
    "\n",
    "$$\n",
    "k_t = \\delta_k k_{t-1} + i_t\n",
    "$$\n",
    "\n",
    "$$\n",
    "g_t = \\phi_1 i_t \\, , \\phi_1 > 0\n",
    "$$\n",
    "\n",
    "$$\n",
    "\\left[ {\\begin{array}{c}\n",
    "  d_{1t} \\\\ 0\n",
    "  \\end{array} }\n",
    "  \\right] = U_dz_t\n",
    "$$\n",
    "\n",
    "And information of the form\n",
    "\n",
    "$$\n",
    "z_{t+1} =\n",
    "\\left[ {\\begin{array}{ccc}\n",
    "   1 & 0 & 0 \\\\ 0 & 0.8 & 0 \\\\ 0 & 0 & 0.5\n",
    "   \\end{array} }\n",
    "   \\right]\n",
    "   z_t +\n",
    "    \\left[ {\\begin{array}{cc}\n",
    "   0 & 0 \\\\ 1 & 0 \\\\ 0 & 1\n",
    "   \\end{array} }\n",
    "   \\right]\n",
    "   w_{t+1}\n",
    "$$\n",
    "\n",
    "$$\n",
    "U_b =\n",
    "  \\left[ {\\begin{array}{ccc}\n",
    "  30 & 0 & 0\n",
    "  \\end{array} }\n",
    "  \\right]\n",
    "$$\n",
    "\n",
    "$$\n",
    "U_d =\n",
    "   \\left[ {\\begin{array}{ccc}\n",
    "   5 & 1 & 0 \\\\ 0 & 0 & 0\n",
    "   \\end{array} }\n",
    "   \\right]\n",
    "$$\n",
    "\n",
    "We shall vary\n",
    "$\\{\\lambda, \\pi, \\delta_h, \\theta_h, \\gamma_1, \\delta_k, \\phi_1\\}$\n",
    "and the initial state $x_0$ across the three economies.\n",
    "\n",
    "### Example 1: Hall (1978)\n",
    "\n",
    "First, we set parameters such that consumption follows a random walk. In\n",
    "particular, we set\n",
    "\n",
    "$$\n",
    "\\lambda = 0, \\pi = 1, \\gamma_1 = 0.1, \\phi_1 = 0.00001, \\delta_k = 0.95, \\beta = \\frac{1}{1.05}\n",
    "$$\n",
    "\n",
    "(In this economy $\\delta_h$ and $\\theta_h$ are arbitrary as\n",
    "household capital does not enter the equation for consumption services\n",
    "We set them to values that will become useful in Example 3)\n",
    "\n",
    "It is worth noting that this choice of parameter values ensures that\n",
    "$\\beta(\\gamma_1 + \\delta_k) = 1$.\n",
    "\n",
    "For simulations of this economy, we choose an initial condition of\n",
    "\n",
    "$$\n",
    "x_0 =\n",
    "   \\left[ {\\begin{array}{ccccc}\n",
    "   5 & 150 & 1 & 0 & 0\n",
    "   \\end{array} }\n",
    "   \\right]'\n",
    "$$"
   ]
  },
  {
   "cell_type": "code",
   "execution_count": 3,
   "id": "80f8664b",
   "metadata": {},
   "outputs": [],
   "source": [
    "# Parameter Matrices\n",
    "γ_1 = 0.1\n",
    "ϕ_1 = 1e-5\n",
    "\n",
    "ϕ_c, ϕ_g, ϕ_i, γ, δ_k, θ_k = (np.array([[1], [0]]),\n",
    "                              np.array([[0], [1]]),\n",
    "                              np.array([[1], [-ϕ_1]]),\n",
    "                              np.array([[γ_1], [0]]),\n",
    "                              np.array([[.95]]),\n",
    "                              np.array([[1]]))\n",
    "\n",
    "β, l_λ, π_h, δ_h, θ_h = (np.array([[1 / 1.05]]),\n",
    "                         np.array([[0]]),\n",
    "                         np.array([[1]]),\n",
    "                         np.array([[.9]]),\n",
    "                         np.array([[1]]) - np.array([[.9]]))\n",
    "\n",
    "a22, c2, ub, ud = (np.array([[1,   0,   0],\n",
    "                             [0, 0.8,   0],\n",
    "                             [0,   0, 0.5]]),\n",
    "                   np.array([[0, 0],\n",
    "                             [1, 0],\n",
    "                             [0, 1]]),\n",
    "                   np.array([[30, 0, 0]]),\n",
    "                   np.array([[5, 1, 0],\n",
    "                             [0, 0, 0]]))\n",
    "\n",
    "# Initial condition\n",
    "x0 = np.array([[5], [150], [1], [0], [0]])\n",
    "\n",
    "info1 = (a22, c2, ub, ud)\n",
    "tech1 = (ϕ_c, ϕ_g, ϕ_i, γ, δ_k, θ_k)\n",
    "pref1 = (β, l_λ, π_h, δ_h, θ_h)"
   ]
  },
  {
   "cell_type": "markdown",
   "id": "827a2cb5",
   "metadata": {},
   "source": [
    "These parameter values are used to define an economy of the DLE class."
   ]
  },
  {
   "cell_type": "code",
   "execution_count": 4,
   "id": "93cf2c28",
   "metadata": {},
   "outputs": [],
   "source": [
    "econ1 = DLE(info1, tech1, pref1)"
   ]
  },
  {
   "cell_type": "markdown",
   "id": "05370f3a",
   "metadata": {},
   "source": [
    "We can then simulate the economy for a chosen length of time, from our\n",
    "initial state vector $x_0$"
   ]
  },
  {
   "cell_type": "code",
   "execution_count": 5,
   "id": "d3e67c47",
   "metadata": {},
   "outputs": [],
   "source": [
    "econ1.compute_sequence(x0, ts_length=300)"
   ]
  },
  {
   "cell_type": "markdown",
   "id": "3e85b598",
   "metadata": {},
   "source": [
    "The economy stores the simulated values for each variable. Below we plot\n",
    "consumption and investment"
   ]
  },
  {
   "cell_type": "code",
   "execution_count": 6,
   "id": "e2105e76",
   "metadata": {},
   "outputs": [
    {
     "data": {
      "image/png": "[encoded data removed]",
      "text/plain": [
       "<Figure size 432x288 with 1 Axes>"
      ]
     },
     "metadata": {
      "filenames": {
       "image/png": "/home/runner/work/lecture-python-advanced.myst/lecture-python-advanced.myst/_build/jupyter_execute/growth_in_dles_11_0.png"
      },
      "needs_background": "light"
     },
     "output_type": "display_data"
    }
   ],
   "source": [
    "# This is the right panel of Fig 5.7.1 from p.105 of HS2013\n",
    "plt.plot(econ1.c[0], label='Cons.')\n",
    "plt.plot(econ1.i[0], label='Inv.')\n",
    "plt.legend()\n",
    "plt.show()"
   ]
  },
  {
   "cell_type": "markdown",
   "id": "327d4d69",
   "metadata": {},
   "source": [
    "Inspection of the plot shows that the sample paths of consumption and\n",
    "investment drift in ways that suggest that each has or nearly has a\n",
    "**random walk** or **unit root** component.\n",
    "\n",
    "This is confirmed by checking the eigenvalues of $A^o$"
   ]
  },
  {
   "cell_type": "code",
   "execution_count": 7,
   "id": "e34ccf81",
   "metadata": {},
   "outputs": [
    {
     "data": {
      "text/plain": [
       "(array([0.9, 1. ]), array([1. , 0.8, 0.5]))"
      ]
     },
     "execution_count": 7,
     "metadata": {},
     "output_type": "execute_result"
    }
   ],
   "source": [
    "econ1.endo, econ1.exo"
   ]
  },
  {
   "cell_type": "markdown",
   "id": "c5d8fc56",
   "metadata": {},
   "source": [
    "The endogenous eigenvalue that appears to be unity reflects the random\n",
    "walk character of consumption in Hall's model.\n",
    "\n",
    "- Actually, the largest endogenous eigenvalue is very slightly below 1.\n",
    "- This outcome comes from the small adjustment cost $\\phi_1$."
   ]
  },
  {
   "cell_type": "code",
   "execution_count": 8,
   "id": "46f23df1",
   "metadata": {},
   "outputs": [
    {
     "data": {
      "text/plain": [
       "0.9999999999904767"
      ]
     },
     "execution_count": 8,
     "metadata": {},
     "output_type": "execute_result"
    }
   ],
   "source": [
    "econ1.endo[1]"
   ]
  },
  {
   "cell_type": "markdown",
   "id": "28f2f93e",
   "metadata": {},
   "source": [
    "The fact that the largest endogenous eigenvalue is strictly less than\n",
    "unity in modulus means that it is possible to compute the non-stochastic\n",
    "steady state of consumption, investment and capital."
   ]
  },
  {
   "cell_type": "code",
   "execution_count": 9,
   "id": "a37b1139",
   "metadata": {},
   "outputs": [
    {
     "name": "stdout",
     "output_type": "stream",
     "text": [
      "[[5.]] [[-0.]] [[-0.002]]\n"
     ]
    }
   ],
   "source": [
    "econ1.compute_steadystate()\n",
    "np.set_printoptions(precision=3, suppress=True)\n",
    "print(econ1.css, econ1.iss, econ1.kss)"
   ]
  },
  {
   "cell_type": "markdown",
   "id": "9082e720",
   "metadata": {},
   "source": [
    "However, the near-unity endogenous eigenvalue means that these steady\n",
    "state values are of little relevance.\n",
    "\n",
    "### Example 2: Altered Growth Condition\n",
    "\n",
    "We generate our next economy by making two alterations to the parameters\n",
    "of Example 1.\n",
    "\n",
    "- First, we raise $\\phi_1$ from 0.00001 to 1.\n",
    "    - This will lower the endogenous eigenvalue that is close to 1,\n",
    "      causing the economy to head more quickly to the vicinity of its\n",
    "      non-stochastic steady-state.\n",
    "- Second, we raise $\\gamma_1$ from 0.1 to 0.15.\n",
    "    - This has the effect of raising the optimal steady-state value of\n",
    "      capital.\n",
    "\n",
    "We also start the economy off from an initial condition with a lower\n",
    "capital stock\n",
    "\n",
    "$$\n",
    "x_0 =\n",
    "   \\left[ {\\begin{array}{ccccc}\n",
    "   5 & 20 & 1 & 0 & 0\n",
    "   \\end{array} }\n",
    "   \\right]'\n",
    "$$\n",
    "\n",
    "Therefore, we need to define the following new parameters"
   ]
  },
  {
   "cell_type": "code",
   "execution_count": 10,
   "id": "cb3d0fd8",
   "metadata": {},
   "outputs": [],
   "source": [
    "γ2 = 0.15\n",
    "γ22 = np.array([[γ2], [0]])\n",
    "\n",
    "ϕ_12 = 1\n",
    "ϕ_i2 = np.array([[1], [-ϕ_12]])\n",
    "\n",
    "tech2 = (ϕ_c, ϕ_g, ϕ_i2, γ22, δ_k, θ_k)\n",
    "\n",
    "x02 = np.array([[5], [20], [1], [0], [0]])"
   ]
  },
  {
   "cell_type": "markdown",
   "id": "f825a132",
   "metadata": {},
   "source": [
    "Creating the DLE class and then simulating gives the following plot for\n",
    "consumption and investment"
   ]
  },
  {
   "cell_type": "code",
   "execution_count": 11,
   "id": "ea2cd8d7",
   "metadata": {},
   "outputs": [
    {
     "data": {
      "image/png": "[encoded data removed]",
      "text/plain": [
       "<Figure size 432x288 with 1 Axes>"
      ]
     },
     "metadata": {
      "filenames": {
       "image/png": "/home/runner/work/lecture-python-advanced.myst/lecture-python-advanced.myst/_build/jupyter_execute/growth_in_dles_21_0.png"
      },
      "needs_background": "light"
     },
     "output_type": "display_data"
    }
   ],
   "source": [
    "econ2 = DLE(info1, tech2, pref1)\n",
    "\n",
    "econ2.compute_sequence(x02, ts_length=300)\n",
    "\n",
    "plt.plot(econ2.c[0], label='Cons.')\n",
    "plt.plot(econ2.i[0], label='Inv.')\n",
    "plt.legend()\n",
    "plt.show()"
   ]
  },
  {
   "cell_type": "markdown",
   "id": "01a1c7f2",
   "metadata": {},
   "source": [
    "Simulating our new economy shows that consumption grows quickly in the\n",
    "early stages of the sample.\n",
    "\n",
    "However, it then settles down around the new non-stochastic steady-state\n",
    "level of consumption of 17.5, which we find as follows"
   ]
  },
  {
   "cell_type": "code",
   "execution_count": 12,
   "id": "c1777d7a",
   "metadata": {},
   "outputs": [
    {
     "name": "stdout",
     "output_type": "stream",
     "text": [
      "[[17.5]] [[6.25]] [[125.]]\n"
     ]
    }
   ],
   "source": [
    "econ2.compute_steadystate()\n",
    "print(econ2.css, econ2.iss, econ2.kss)"
   ]
  },
  {
   "cell_type": "markdown",
   "id": "cbd79016",
   "metadata": {},
   "source": [
    "The economy converges faster to this level than in Example 1 because the\n",
    "largest endogenous eigenvalue of $A^o$ is now significantly lower\n",
    "than 1."
   ]
  },
  {
   "cell_type": "code",
   "execution_count": 13,
   "id": "f59dfcb1",
   "metadata": {},
   "outputs": [
    {
     "data": {
      "text/plain": [
       "(array([0.9  , 0.952]), array([1. , 0.8, 0.5]))"
      ]
     },
     "execution_count": 13,
     "metadata": {},
     "output_type": "execute_result"
    }
   ],
   "source": [
    "econ2.endo, econ2.exo"
   ]
  },
  {
   "cell_type": "markdown",
   "id": "552bdf0d",
   "metadata": {},
   "source": [
    "### Example 3: A Jones-Manuelli (1990) Economy\n",
    "\n",
    "For our third economy, we choose parameter values with the aim of\n",
    "generating *sustained* growth in consumption, investment and capital.\n",
    "\n",
    "To do this, we set parameters so that Jones and Manuelli's \"growth\n",
    "condition\" is just satisfied.\n",
    "\n",
    "In our notation, just satisfying the growth condition is actually\n",
    "equivalent to setting $\\beta(\\gamma_1 + \\delta_k) = 1$, the\n",
    "condition that was necessary for consumption to be a random walk in\n",
    "Hall's model.\n",
    "\n",
    "Thus, we lower $\\gamma_1$ back to 0.1.\n",
    "\n",
    "In our model, this is a necessary but not sufficient condition for\n",
    "growth.\n",
    "\n",
    "To generate growth we set preference parameters to reflect habit\n",
    "persistence.\n",
    "\n",
    "In particular, we set $\\lambda = -1$, $\\delta_h = 0.9$ and\n",
    "$\\theta_h = 1 - \\delta_h = 0.1$.\n",
    "\n",
    "This makes preferences assume the form\n",
    "\n",
    "$$\n",
    "- \\frac{1}{2}\\mathbb{E}\\sum_{t=0}^\\infty \\beta^t [(c_t-b_t - (1-\\delta_h)\\sum_{j=0}^\\infty \\delta_h^jc_{t-j-1})^2 + l_t^2]\n",
    "$$\n",
    "\n",
    "These preferences reflect habit persistence\n",
    "\n",
    "- the effective \"bliss point\"\n",
    "  $b_t + (1-\\delta_h)\\sum_{j=0}^\\infty \\delta_h^jc_{t-j-1}$ now\n",
    "  shifts in response to a moving average of past consumption\n",
    "\n",
    "Since $\\delta_h$ and $\\theta_h$ were defined earlier, the\n",
    "only change we need to make from the parameters of Example 1 is to\n",
    "define the new value of $\\lambda$."
   ]
  },
  {
   "cell_type": "code",
   "execution_count": 14,
   "id": "cc1776e6",
   "metadata": {},
   "outputs": [],
   "source": [
    "l_λ2 = np.array([[-1]])\n",
    "pref2 = (β, l_λ2, π_h, δ_h, θ_h)"
   ]
  },
  {
   "cell_type": "code",
   "execution_count": 15,
   "id": "ef706093",
   "metadata": {},
   "outputs": [],
   "source": [
    "econ3 = DLE(info1, tech1, pref2)"
   ]
  },
  {
   "cell_type": "markdown",
   "id": "5ee16672",
   "metadata": {},
   "source": [
    "We simulate this economy from the original state vector"
   ]
  },
  {
   "cell_type": "code",
   "execution_count": 16,
   "id": "ca8b4fea",
   "metadata": {},
   "outputs": [
    {
     "data": {
      "image/png": "[encoded data removed]",
      "text/plain": [
       "<Figure size 432x288 with 1 Axes>"
      ]
     },
     "metadata": {
      "filenames": {
       "image/png": "/home/runner/work/lecture-python-advanced.myst/lecture-python-advanced.myst/_build/jupyter_execute/growth_in_dles_30_0.png"
      },
      "needs_background": "light"
     },
     "output_type": "display_data"
    }
   ],
   "source": [
    "econ3.compute_sequence(x0, ts_length=300)\n",
    "\n",
    "# This is the right panel of Fig 5.10.1 from p.110 of HS2013\n",
    "plt.plot(econ3.c[0], label='Cons.')\n",
    "plt.plot(econ3.i[0], label='Inv.')\n",
    "plt.legend()\n",
    "plt.show()"
   ]
  },
  {
   "cell_type": "markdown",
   "id": "5b5e4ee0",
   "metadata": {},
   "source": [
    "Thus, adding habit persistence to the Hall model of Example 1 is enough\n",
    "to generate sustained growth in our economy.\n",
    "\n",
    "The eigenvalues of\n",
    "$A^o$ in this new economy are"
   ]
  },
  {
   "cell_type": "code",
   "execution_count": 17,
   "id": "0028febc",
   "metadata": {},
   "outputs": [
    {
     "data": {
      "text/plain": [
       "(array([1.+0.j, 1.-0.j]), array([1. , 0.8, 0.5]))"
      ]
     },
     "execution_count": 17,
     "metadata": {},
     "output_type": "execute_result"
    }
   ],
   "source": [
    "econ3.endo, econ3.exo"
   ]
  },
  {
   "cell_type": "markdown",
   "id": "a6014dc9",
   "metadata": {},
   "source": [
    "We now have two unit endogenous eigenvalues. One stems from satisfying\n",
    "the growth condition (as in Example 1).\n",
    "\n",
    "The other unit eigenvalue results from setting $\\lambda = -1$.\n",
    "\n",
    "To show the importance of both of these for generating growth, we\n",
    "consider the following experiments.\n",
    "\n",
    "### Example 3.1: Varying Sensitivity\n",
    "\n",
    "Next we raise $\\lambda$ to -0.7"
   ]
  },
  {
   "cell_type": "code",
   "execution_count": 18,
   "id": "9c0a0f73",
   "metadata": {},
   "outputs": [
    {
     "data": {
      "image/png": "[encoded data removed]",
      "text/plain": [
       "<Figure size 432x288 with 1 Axes>"
      ]
     },
     "metadata": {
      "filenames": {
       "image/png": "/home/runner/work/lecture-python-advanced.myst/lecture-python-advanced.myst/_build/jupyter_execute/growth_in_dles_34_0.png"
      },
      "needs_background": "light"
     },
     "output_type": "display_data"
    }
   ],
   "source": [
    "l_λ3 = np.array([[-0.7]])\n",
    "pref3 = (β, l_λ3, π_h, δ_h, θ_h)\n",
    "\n",
    "econ4 = DLE(info1, tech1, pref3)\n",
    "\n",
    "econ4.compute_sequence(x0, ts_length=300)\n",
    "\n",
    "plt.plot(econ4.c[0], label='Cons.')\n",
    "plt.plot(econ4.i[0], label='Inv.')\n",
    "plt.legend()\n",
    "plt.show()"
   ]
  },
  {
   "cell_type": "markdown",
   "id": "d33c5039",
   "metadata": {},
   "source": [
    "We no longer achieve sustained growth if $\\lambda$ is raised from -1 to -0.7.\n",
    "\n",
    "This is related to the fact that one of the endogenous\n",
    "eigenvalues is now less than 1."
   ]
  },
  {
   "cell_type": "code",
   "execution_count": 19,
   "id": "6ec54392",
   "metadata": {},
   "outputs": [
    {
     "data": {
      "text/plain": [
       "(array([0.97, 1.  ]), array([1. , 0.8, 0.5]))"
      ]
     },
     "execution_count": 19,
     "metadata": {},
     "output_type": "execute_result"
    }
   ],
   "source": [
    "econ4.endo, econ4.exo"
   ]
  },
  {
   "cell_type": "markdown",
   "id": "0b25893d",
   "metadata": {},
   "source": [
    "### Example 3.2: More Impatience\n",
    "\n",
    "Next let's lower $\\beta$ to 0.94"
   ]
  },
  {
   "cell_type": "code",
   "execution_count": 20,
   "id": "e802d983",
   "metadata": {},
   "outputs": [
    {
     "data": {
      "image/png": "[encoded data removed]",
      "text/plain": [
       "<Figure size 432x288 with 1 Axes>"
      ]
     },
     "metadata": {
      "filenames": {
       "image/png": "/home/runner/work/lecture-python-advanced.myst/lecture-python-advanced.myst/_build/jupyter_execute/growth_in_dles_38_0.png"
      },
      "needs_background": "light"
     },
     "output_type": "display_data"
    }
   ],
   "source": [
    "β_2 = np.array([[0.94]])\n",
    "pref4 = (β_2, l_λ, π_h, δ_h, θ_h)\n",
    "\n",
    "econ5 = DLE(info1, tech1, pref4)\n",
    "\n",
    "econ5.compute_sequence(x0, ts_length=300)\n",
    "\n",
    "plt.plot(econ5.c[0], label='Cons.')\n",
    "plt.plot(econ5.i[0], label='Inv.')\n",
    "plt.legend()\n",
    "plt.show()"
   ]
  },
  {
   "cell_type": "markdown",
   "id": "9805fd04",
   "metadata": {},
   "source": [
    "Growth also fails if we lower $\\beta$, since we now have\n",
    "$\\beta(\\gamma_1 + \\delta_k) < 1$.\n",
    "\n",
    "Consumption and investment explode downwards, as a lower value of\n",
    "$\\beta$ causes the representative consumer to front-load\n",
    "consumption.\n",
    "\n",
    "This explosive path shows up in the second endogenous eigenvalue now\n",
    "being larger than one."
   ]
  },
  {
   "cell_type": "code",
   "execution_count": 21,
   "id": "8024338d",
   "metadata": {},
   "outputs": [
    {
     "data": {
      "text/plain": [
       "(array([0.9  , 1.013]), array([1. , 0.8, 0.5]))"
      ]
     },
     "execution_count": 21,
     "metadata": {},
     "output_type": "execute_result"
    }
   ],
   "source": [
    "econ5.endo, econ5.exo"
   ]
  }
 ],
 "metadata": {
  "jupytext": {
   "text_representation": {
    "extension": ".md",
    "format_name": "myst"
   }
  },
  "kernelspec": {
   "display_name": "Python 3",
   "language": "python",
   "name": "python3"
  },
  "language_info": {
   "codemirror_mode": {
    "name": "ipython",
    "version": 3
   },
   "file_extension": ".py",
   "mimetype": "text/x-python",
   "name": "python",
   "nbconvert_exporter": "python",
   "pygments_lexer": "ipython3",
   "version": "3.9.12"
  },
  "source_map": [
   10,
   35,
   40,
   52,
   57,
   304,
   338,
   342,
   344,
   349,
   351,
   356,
   362,
   370,
   372,
   380,
   382,
   388,
   392,
   423,
   433,
   438,
   447,
   455,
   458,
   464,
   466,
   508,
   513,
   515,
   519,
   527,
   535,
   537,
   551,
   563,
   570,
   572,
   578,
   590,
   602
  ]
 },
 "nbformat": 4,
 "nbformat_minor": 5
}