{
 "cells": [
  {
   "cell_type": "markdown",
   "id": "e914076b",
   "metadata": {},
   "source": [
    "# Advanced Quantitative Economics with Python\n",
    "\n",
    "This website presents a set of advanced lectures on quantitative economic modeling, designed and written by\n",
    "[Thomas J. Sargent](http://www.tomsargent.com/) and [John Stachurski](http://johnstachurski.net/).\n",
    "\n",
    "For an overview of the series, see [this page](https://quantecon.org/python-lectures/)"
   ]
  },
  {
   "cell_type": "markdown",
   "id": "b60cfe69",
   "metadata": {},
   "source": [
    "# Tools and Techniques\n",
    "\n",
    "- [Orthogonal Projections and Their Applications](https://python-advanced.quantecon.org/orth_proj.html)\n",
    "- [Continuous State Markov Chains](https://python-advanced.quantecon.org/stationary_densities.html)\n",
    "- [Reverse Engineering a la Muth](https://python-advanced.quantecon.org/muth_kalman.html)\n",
    "- [Discrete State Dynamic Programming](https://python-advanced.quantecon.org/discrete_dp.html)"
   ]
  },
  {
   "cell_type": "markdown",
   "id": "589a5834",
   "metadata": {},
   "source": [
    "# LQ Control\n",
    "\n",
    "- [Information and Consumption Smoothing](https://python-advanced.quantecon.org/cons_news.html)\n",
    "- [Consumption Smoothing with Complete and Incomplete Markets](https://python-advanced.quantecon.org/smoothing.html)\n",
    "- [Tax Smoothing with Complete and Incomplete Markets](https://python-advanced.quantecon.org/smoothing_tax.html)\n",
    "- [Markov Jump Linear Quadratic Dynamic Programming](https://python-advanced.quantecon.org/markov_jump_lq.html)\n",
    "- [How to Pay for a War: Part 1](https://python-advanced.quantecon.org/tax_smoothing_1.html)\n",
    "- [How to Pay for a War: Part 2](https://python-advanced.quantecon.org/tax_smoothing_2.html)\n",
    "- [How to Pay for a War: Part 3](https://python-advanced.quantecon.org/tax_smoothing_3.html)\n",
    "- [Optimal Taxation in an LQ Economy](https://python-advanced.quantecon.org/lqramsey.html)"
   ]
  },
  {
   "cell_type": "markdown",
   "id": "aa3bc716",
   "metadata": {},
   "source": [
    "# Multiple Agent Models\n",
    "\n",
    "- [Default Risk and Income Fluctuations](https://python-advanced.quantecon.org/arellano.html)\n",
    "- [Globalization and Cycles](https://python-advanced.quantecon.org/matsuyama.html)\n",
    "- [Coase’s Theory of the Firm](https://python-advanced.quantecon.org/coase.html)"
   ]
  },
  {
   "cell_type": "markdown",
   "id": "4ab433c3",
   "metadata": {},
   "source": [
    "# Dynamic Linear Economies\n",
    "\n",
    "- [Recursive Models of Dynamic Linear Economies](https://python-advanced.quantecon.org/hs_recursive_models.html)\n",
    "- [Growth in Dynamic Linear Economies](https://python-advanced.quantecon.org/growth_in_dles.html)\n",
    "- [Lucas Asset Pricing Using DLE](https://python-advanced.quantecon.org/lucas_asset_pricing_dles.html)\n",
    "- [IRFs in Hall Models](https://python-advanced.quantecon.org/irfs_in_hall_model.html)\n",
    "- [Permanent Income Model using the DLE Class](https://python-advanced.quantecon.org/permanent_income_dles.html)\n",
    "- [Rosen Schooling Model](https://python-advanced.quantecon.org/rosen_schooling_model.html)\n",
    "- [Cattle Cycles](https://python-advanced.quantecon.org/cattle_cycles.html)\n",
    "- [Shock Non Invertibility](https://python-advanced.quantecon.org/hs_invertibility_example.html)"
   ]
  },
  {
   "cell_type": "markdown",
   "id": "7d03e15c",
   "metadata": {},
   "source": [
    "# Risk, Model Uncertainty, and Robustness\n",
    "\n",
    "- [Risk and Model Uncertainty](https://python-advanced.quantecon.org/five_preferences.html)\n",
    "- [Etymology of Entropy](https://python-advanced.quantecon.org/entropy.html)\n",
    "- [Robustness](https://python-advanced.quantecon.org/robustness.html)\n",
    "- [Robust Markov Perfect Equilibrium](https://python-advanced.quantecon.org/rob_markov_perf.html)"
   ]
  },
  {
   "cell_type": "markdown",
   "id": "d1610f1e",
   "metadata": {},
   "source": [
    "# Time Series Models\n",
    "\n",
    "- [Covariance Stationary Processes](https://python-advanced.quantecon.org/arma.html)\n",
    "- [Estimation of Spectra](https://python-advanced.quantecon.org/estspec.html)\n",
    "- [Additive and Multiplicative Functionals](https://python-advanced.quantecon.org/additive_functionals.html)\n",
    "- [Classical Control with Linear Algebra](https://python-advanced.quantecon.org/lu_tricks.html)\n",
    "- [Classical Prediction and Filtering With Linear Algebra](https://python-advanced.quantecon.org/classical_filtering.html)\n",
    "- [Knowing the Forecasts of Others](https://python-advanced.quantecon.org/knowing_forecasts_of_others.html)"
   ]
  },
  {
   "cell_type": "markdown",
   "id": "48e2f04f",
   "metadata": {},
   "source": [
    "# Asset Pricing and Finance\n",
    "\n",
    "- [Asset Pricing II: The Lucas Asset Pricing Model](https://python-advanced.quantecon.org/lucas_model.html)\n",
    "- [Elementary Asset Pricing Theory](https://python-advanced.quantecon.org/asset_pricing_lph.html)\n",
    "- [Two Modifications of Mean-Variance Portfolio Theory](https://python-advanced.quantecon.org/black_litterman.html)\n",
    "- [Irrelevance of Capital Structures with Complete Markets](https://python-advanced.quantecon.org/BCG_complete_mkts.html)\n",
    "- [Equilibrium Capital Structures with Incomplete Markets](https://python-advanced.quantecon.org/BCG_incomplete_mkts.html)"
   ]
  },
  {
   "cell_type": "markdown",
   "id": "07e23c12",
   "metadata": {},
   "source": [
    "# Dynamic Programming Squared\n",
    "\n",
    "- [Optimal Unemployment Insurance](https://python-advanced.quantecon.org/un_insure.html)\n",
    "- [Stackelberg Plans](https://python-advanced.quantecon.org/dyn_stack.html)\n",
    "- [Ramsey Plans, Time Inconsistency, Sustainable Plans](https://python-advanced.quantecon.org/calvo.html)\n",
    "- [Optimal Taxation with State-Contingent Debt](https://python-advanced.quantecon.org/opt_tax_recur.html)\n",
    "- [Optimal Taxation without State-Contingent Debt](https://python-advanced.quantecon.org/amss.html)\n",
    "- [Fluctuating Interest Rates Deliver Fiscal Insurance](https://python-advanced.quantecon.org/amss2.html)\n",
    "- [Fiscal Risk and Government Debt](https://python-advanced.quantecon.org/amss3.html)\n",
    "- [Competitive Equilibria of a Model of Chang](https://python-advanced.quantecon.org/chang_ramsey.html)\n",
    "- [Credible Government Policies in a Model of Chang](https://python-advanced.quantecon.org/chang_credible.html)"
   ]
  },
  {
   "cell_type": "markdown",
   "id": "2cb1d1ae",
   "metadata": {},
   "source": [
    "# Other\n",
    "\n",
    "- [Troubleshooting](https://python-advanced.quantecon.org/troubleshooting.html)\n",
    "- [References](https://python-advanced.quantecon.org/zreferences.html)\n",
    "- [Execution Statistics](https://python-advanced.quantecon.org/status.html)"
   ]
  },
  {
   "cell_type": "markdown",
   "id": "3046b259",
   "metadata": {},
   "source": [
    "# Previous website\n",
    "\n",
    "While this new site will receive all future updates, you may still view the [old site here](http://rst-python-advanced.quantecon.org) for the next month."
   ]
  }
 ],
 "metadata": {
  "date": 1663034801.8601873,
  "filename": "intro.md",
  "kernelspec": {
   "display_name": "Python",
   "language": "python3",
   "name": "python3"
  },
  "title": "Advanced Quantitative Economics with Python"
 },
 "nbformat": 4,
 "nbformat_minor": 5
}