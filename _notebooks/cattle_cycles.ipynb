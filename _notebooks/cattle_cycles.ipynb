{
 "cells": [
  {
   "cell_type": "markdown",
   "id": "a43df199",
   "metadata": {},
   "source": [
    "\n",
    "<a id='cattle-cycles'></a>\n",
    "\n",
    "<a id='index-0'></a>"
   ]
  },
  {
   "cell_type": "markdown",
   "id": "1979636a",
   "metadata": {},
   "source": [
    "# Cattle Cycles\n",
    "\n",
    "This is another member of a suite of lectures that use the quantecon DLE class to instantiate models within the\n",
    "[[Hansen and Sargent, 2013](https://python-advanced.quantecon.org/zreferences.html#id72)] class of models described in detail in [Recursive Models of Dynamic Linear Economies](https://python-advanced.quantecon.org/hs_recursive_models.html).\n",
    "\n",
    "In addition to what’s in Anaconda, this lecture uses the quantecon library."
   ]
  },
  {
   "cell_type": "code",
   "execution_count": null,
   "id": "e4eec97c",
   "metadata": {
    "hide-output": false
   },
   "outputs": [],
   "source": [
    "!pip install --upgrade quantecon"
   ]
  },
  {
   "cell_type": "markdown",
   "id": "6f7671fe",
   "metadata": {},
   "source": [
    "This lecture uses the DLE class to construct instances of  the “Cattle Cycles” model\n",
    "of Rosen, Murphy and Scheinkman (1994) [[Rosen *et al.*, 1994](https://python-advanced.quantecon.org/zreferences.html#id71)].\n",
    "\n",
    "That paper constructs a rational expectations equilibrium model to\n",
    "understand sources of recurrent cycles in US cattle stocks and prices.\n",
    "\n",
    "We make the following imports:"
   ]
  },
  {
   "cell_type": "code",
   "execution_count": null,
   "id": "841e5b2c",
   "metadata": {
    "hide-output": false
   },
   "outputs": [],
   "source": [
    "import numpy as np\n",
    "import matplotlib.pyplot as plt\n",
    "from collections import namedtuple\n",
    "from quantecon import DLE\n",
    "from math import sqrt"
   ]
  },
  {
   "cell_type": "markdown",
   "id": "74d92677",
   "metadata": {},
   "source": [
    "## The Model\n",
    "\n",
    "The model features a static linear demand curve and a “time-to-grow”\n",
    "structure for cattle.\n",
    "\n",
    "Let $ p_t $ be the price of slaughtered beef, $ m_t $ the cost\n",
    "of preparing an animal for slaughter, $ h_t $ the holding cost for a\n",
    "mature animal, $ \\gamma_1 h_t $ the holding cost for a yearling, and\n",
    "$ \\gamma_0 h_t $ the holding cost for a calf.\n",
    "\n",
    "The cost processes $ \\{h_t, m_t \\}_{t=0}^\\infty $ are exogenous,\n",
    "while the price process $ \\{p_t \\}_{t=0}^\\infty $ is determined\n",
    "within a rational expectations equilibrium.\n",
    "\n",
    "Let $ x_t $ be the breeding stock, and $ y_t $ be the total\n",
    "stock of cattle.\n",
    "\n",
    "The law of motion for the breeding stock is\n",
    "\n",
    "$$\n",
    "x_t = (1-\\delta)x_{t-1} + gx_{t-3} - c_t\n",
    "$$\n",
    "\n",
    "where $ g < 1 $ is the number of calves that each member of the\n",
    "breeding stock has each year, and $ c_t $ is the number of cattle\n",
    "slaughtered.\n",
    "\n",
    "The total headcount of cattle is\n",
    "\n",
    "$$\n",
    "y_t = x_t + gx_{t-1} + gx_{t-2}\n",
    "$$\n",
    "\n",
    "This equation states that the total number of cattle equals the sum of\n",
    "adults, calves and yearlings, respectively.\n",
    "\n",
    "A representative farmer chooses $ \\{c_t, x_t\\} $ to maximize:\n",
    "\n",
    "$$\n",
    "\\mathbb{E}_0 \\sum_{t=0}^\\infty \\beta^t \\{p_tc_t - h_tx_t - \\gamma_0 h_t(gx_{t-1}) - \\gamma_1 h_t(gx_{t-2}) - m_tc_t - \\frac{\\psi_1}{2}x_t^2 - \\frac{\\psi_2}{2}x_{t-1}^2 - \\frac{\\psi_3}{2}x_{t-3}^2 - \\frac{\\psi_4}{2}c_t^2 \\}\n",
    "$$\n",
    "\n",
    "subject to the law of motion for $ x_t $, taking as given the\n",
    "stochastic laws of motion for the exogenous processes, the equilibrium\n",
    "price process, and the initial state [$ x_{-1},x_{-2},x_{-3} $].\n",
    "\n",
    "**Remark** The $ \\psi_j $ parameters are very small quadratic costs\n",
    "that are included for technical reasons to make well posed and well\n",
    "behaved the linear quadratic dynamic programming problem solved by the\n",
    "fictitious planner who in effect chooses equilibrium quantities and shadow\n",
    "prices.\n",
    "\n",
    "Demand for beef is government by $ c_t = a_0 - a_1p_t + \\tilde d_t $\n",
    "where $ \\tilde d_t $ is a stochastic process with mean zero,\n",
    "representing a demand shifter."
   ]
  },
  {
   "cell_type": "markdown",
   "id": "95700085",
   "metadata": {},
   "source": [
    "## Mapping into HS2013 Framework"
   ]
  },
  {
   "cell_type": "markdown",
   "id": "f8e27f60",
   "metadata": {},
   "source": [
    "### Preferences\n",
    "\n",
    "We set\n",
    "$ \\Lambda = 0, \\Delta_h = 0, \\Theta_h = 0, \\Pi = \\alpha_1^{-\\frac{1}{2}} $\n",
    "and $ b_t = \\Pi \\tilde d_t + \\Pi \\alpha_0 $.\n",
    "\n",
    "With these settings, the FOC for the household’s problem becomes the\n",
    "demand curve of the “Cattle Cycles” model."
   ]
  },
  {
   "cell_type": "markdown",
   "id": "8e55343b",
   "metadata": {},
   "source": [
    "### Technology\n",
    "\n",
    "To capture the law of motion for cattle, we set\n",
    "\n",
    "$$\n",
    "\\Delta_k =\n",
    "\\left[ {\\begin{array}{ccc}\n",
    "   (1-\\delta) & 0 & g \\\\ 1 & 0 & 0 \\\\ 0 & 1 & 0\n",
    "   \\end{array} }\n",
    "   \\right] , \\\n",
    "   \\Theta_k =\n",
    "\\left[ {\\begin{array}{c}\n",
    "   1 \\\\ 0 \\\\ 0\n",
    "   \\end{array} }\n",
    "   \\right]\n",
    "$$\n",
    "\n",
    "(where $ i_t = - c_t $).\n",
    "\n",
    "To capture the production of cattle, we set\n",
    "\n",
    "$$\n",
    "\\Phi_c =\n",
    "\\left[ {\\begin{array}{c}\n",
    "   1 \\\\ f_1 \\\\ 0 \\\\ 0 \\\\ -f_7\n",
    "   \\end{array} }\n",
    "   \\right] , \\\n",
    "   \\Phi_g =\n",
    "\\left[ {\\begin{array}{cccc}\n",
    "   0 & 0 & 0 & 0 \\\\ 1 & 0 & 0 & 0 \\\\ 0 & 1 & 0 & 0 \\\\ 0 & 0 & 1 & 0 \\\\ 0 & 0 & 0 & 1\n",
    "   \\end{array} }\n",
    "   \\right] , \\\n",
    "   \\Phi_i =\n",
    "\\left[ {\\begin{array}{c}\n",
    "   1 \\\\ 0 \\\\ 0 \\\\ 0 \\\\ 0\n",
    "   \\end{array} }\n",
    "   \\right] , \\\n",
    "   \\Gamma =\n",
    "\\left[ {\\begin{array}{ccc}\n",
    "   0 & 0 & 0 \\\\ f_1(1-\\delta) & 0 & g f_1 \\\\ f_3 & 0 & 0 \\\\ 0 & f_5 & 0 \\\\ 0 & 0 & 0\n",
    "   \\end{array} }\n",
    "   \\right]\n",
    "$$"
   ]
  },
  {
   "cell_type": "markdown",
   "id": "b9db4c93",
   "metadata": {},
   "source": [
    "### Information\n",
    "\n",
    "We set\n",
    "\n",
    "$$\n",
    "A_{22} =\n",
    "\\left[ {\\begin{array}{cccc}\n",
    "   1 & 0 & 0 & 0\\\\ 0 & \\rho_1 & 0 & 0 \\\\ 0 & 0 & \\rho_2 & 0 \\\\ 0 & 0 & 0 & \\rho_3\n",
    "   \\end{array} }\n",
    "   \\right] \\\n",
    ",   C_2 =\n",
    "\\left[ {\\begin{array}{ccc}\n",
    "   0 & 0 & 0\\\\ 1 & 0 & 0 \\\\ 0 & 1 & 0 \\\\ 0 & 0 & 15\n",
    "   \\end{array} }\n",
    "   \\right] \\\n",
    ",   U_b =\n",
    "\\left[ {\\begin{array}{cccc}\n",
    "   \\Pi \\alpha_0 & 0 & 0 & \\Pi\n",
    "   \\end{array} }\n",
    "   \\right] \\\n",
    ",   U_d =\n",
    "\\left[ {\\begin{array}{c}\n",
    "   0 \\\\ f_2 U_h \\\\ f_4 U_h \\\\ f_6 U_h \\\\ f_8 U_h\n",
    "   \\end{array} }\n",
    "   \\right]\n",
    "$$\n",
    "\n",
    "To map this into our class, we set $ f_1^2 = \\frac{\\Psi_1}{2} $,\n",
    "$ f_2^2 = \\frac{\\Psi_2}{2} $, $ f_3^2 = \\frac{\\Psi_3}{2} $,\n",
    "$ 2f_1f_2 = 1 $, $ 2f_3f_4 = \\gamma_0g $,\n",
    "$ 2f_5f_6 = \\gamma_1g $."
   ]
  },
  {
   "cell_type": "code",
   "execution_count": null,
   "id": "e29555b9",
   "metadata": {
    "hide-output": false
   },
   "outputs": [],
   "source": [
    "# We define namedtuples in this way as it allows us to check, for example,\n",
    "# what matrices are associated with a particular technology.\n",
    "\n",
    "Information = namedtuple('Information', ['a22', 'c2', 'ub', 'ud'])\n",
    "Technology = namedtuple('Technology', ['ϕ_c', 'ϕ_g', 'ϕ_i', 'γ', 'δ_k', 'θ_k'])\n",
    "Preferences = namedtuple('Preferences', ['β', 'l_λ', 'π_h', 'δ_h', 'θ_h'])"
   ]
  },
  {
   "cell_type": "markdown",
   "id": "5beba9bc",
   "metadata": {},
   "source": [
    "We set parameters to those used by [[Rosen *et al.*, 1994](https://python-advanced.quantecon.org/zreferences.html#id71)]"
   ]
  },
  {
   "cell_type": "code",
   "execution_count": null,
   "id": "324fafc1",
   "metadata": {
    "hide-output": false
   },
   "outputs": [],
   "source": [
    "β = np.array([[0.909]])\n",
    "lλ = np.array([[0]])\n",
    "\n",
    "a1 = 0.5\n",
    "πh = np.array([[1 / (sqrt(a1))]])\n",
    "δh = np.array([[0]])\n",
    "θh = np.array([[0]])\n",
    "\n",
    "δ = 0.1\n",
    "g = 0.85\n",
    "f1 = 0.001\n",
    "f3 = 0.001\n",
    "f5 = 0.001\n",
    "f7 = 0.001\n",
    "\n",
    "ϕc = np.array([[1], [f1], [0], [0], [-f7]])\n",
    "\n",
    "ϕg = np.array([[0, 0, 0, 0],\n",
    "               [1, 0, 0, 0],\n",
    "               [0, 1, 0, 0],\n",
    "               [0, 0, 1,0],\n",
    "               [0, 0, 0, 1]])\n",
    "\n",
    "ϕi = np.array([[1], [0], [0], [0], [0]])\n",
    "\n",
    "γ = np.array([[           0,  0,      0],\n",
    "              [f1 * (1 - δ),  0, g * f1],\n",
    "              [          f3,  0,      0],\n",
    "              [           0, f5,      0],\n",
    "              [           0,  0,      0]])\n",
    "\n",
    "δk = np.array([[1 - δ, 0, g],\n",
    "               [    1, 0, 0],\n",
    "               [    0, 1, 0]])\n",
    "\n",
    "θk = np.array([[1], [0], [0]])\n",
    "\n",
    "ρ1 = 0\n",
    "ρ2 = 0\n",
    "ρ3 = 0.6\n",
    "a0 = 500\n",
    "γ0 = 0.4\n",
    "γ1 = 0.7\n",
    "f2 = 1 / (2 * f1)\n",
    "f4 = γ0 * g / (2 * f3)\n",
    "f6 = γ1 * g / (2 * f5)\n",
    "f8 = 1 / (2 * f7)\n",
    "\n",
    "a22 = np.array([[1, 0, 0, 0],\n",
    "                [0, ρ1, 0, 0],\n",
    "                [0, 0, ρ2, 0],\n",
    "                [0, 0, 0, ρ3]])\n",
    "\n",
    "c2 = np.array([[0, 0,  0],\n",
    "               [1, 0,  0],\n",
    "               [0, 1,  0],\n",
    "               [0, 0, 15]])\n",
    "\n",
    "πh_scalar = πh.item()\n",
    "ub = np.array([[πh_scalar * a0, 0, 0, πh_scalar]])\n",
    "uh = np.array([[50, 1, 0, 0]])\n",
    "um = np.array([[100, 0, 1, 0]])\n",
    "ud = np.vstack(([0, 0, 0, 0],\n",
    "                f2 * uh, f4 * uh, f6 * uh, f8 * um))"
   ]
  },
  {
   "cell_type": "markdown",
   "id": "fa131035",
   "metadata": {},
   "source": [
    "Notice that we have set $ \\rho_1 = \\rho_2 = 0 $, so $ h_t $ and\n",
    "$ m_t $ consist of a constant and a white noise component.\n",
    "\n",
    "We set up the economy using tuples for information, technology and\n",
    "preference matrices below.\n",
    "\n",
    "We also construct two extra information matrices, corresponding to cases\n",
    "when $ \\rho_3 = 1 $ and $ \\rho_3 = 0 $ (as opposed to the\n",
    "baseline case of $ \\rho_3 = 0.6 $)."
   ]
  },
  {
   "cell_type": "code",
   "execution_count": null,
   "id": "119191bb",
   "metadata": {
    "hide-output": false
   },
   "outputs": [],
   "source": [
    "info1 = Information(a22, c2, ub, ud)\n",
    "tech1 = Technology(ϕc, ϕg, ϕi, γ, δk, θk)\n",
    "pref1 = Preferences(β, lλ, πh, δh, θh)\n",
    "\n",
    "ρ3_2 = 1\n",
    "a22_2 = np.array([[1,  0,  0,    0],\n",
    "                  [0, ρ1,  0,    0],\n",
    "                  [0,  0, ρ2,    0],\n",
    "                  [0,  0,  0, ρ3_2]])\n",
    "\n",
    "info2 = Information(a22_2, c2, ub, ud)\n",
    "\n",
    "ρ3_3 = 0\n",
    "a22_3 = np.array([[1,  0,  0,    0],\n",
    "                  [0, ρ1,  0,    0],\n",
    "                  [0,  0, ρ2,    0],\n",
    "                  [0,  0,  0, ρ3_3]])\n",
    "\n",
    "info3 = Information(a22_3, c2, ub, ud)\n",
    "\n",
    "# Example of how we can look at the matrices associated with a given namedtuple\n",
    "info1.a22"
   ]
  },
  {
   "cell_type": "code",
   "execution_count": null,
   "id": "ddc80ee6",
   "metadata": {
    "hide-output": false
   },
   "outputs": [],
   "source": [
    "# Use tuples to define DLE class\n",
    "econ1 = DLE(info1, tech1, pref1)\n",
    "econ2 = DLE(info2, tech1, pref1)\n",
    "econ3 = DLE(info3, tech1, pref1)\n",
    "\n",
    "# Calculate steady-state in baseline case and use to set the initial condition\n",
    "econ1.compute_steadystate(nnc=4)\n",
    "x0 = econ1.zz"
   ]
  },
  {
   "cell_type": "code",
   "execution_count": null,
   "id": "4e904411",
   "metadata": {
    "hide-output": false
   },
   "outputs": [],
   "source": [
    "econ1.compute_sequence(x0, ts_length=100)"
   ]
  },
  {
   "cell_type": "markdown",
   "id": "99bb439b",
   "metadata": {},
   "source": [
    "[[Rosen *et al.*, 1994](https://python-advanced.quantecon.org/zreferences.html#id71)] use the model to understand the\n",
    "sources of recurrent cycles in total cattle stocks.\n",
    "\n",
    "Plotting $ y_t $ for a simulation of their model shows its ability\n",
    "to generate cycles in quantities"
   ]
  },
  {
   "cell_type": "code",
   "execution_count": null,
   "id": "a84e1231",
   "metadata": {
    "hide-output": false
   },
   "outputs": [],
   "source": [
    "# Calculation of y_t\n",
    "totalstock = econ1.k[0] + g * econ1.k[1] + g * econ1.k[2]\n",
    "fig, ax = plt.subplots()\n",
    "ax.plot(totalstock)\n",
    "ax.set_xlim((-1, 100))\n",
    "ax.set_title('Total number of cattle')\n",
    "plt.show()"
   ]
  },
  {
   "cell_type": "markdown",
   "id": "ee9841f5",
   "metadata": {},
   "source": [
    "In their Figure 3, [[Rosen *et al.*, 1994](https://python-advanced.quantecon.org/zreferences.html#id71)] plot the impulse response functions\n",
    "of consumption and the breeding stock of cattle to the demand shock,\n",
    "$ \\tilde d_t $, under the three different values of $ \\rho_3 $.\n",
    "\n",
    "We replicate their Figure 3 below"
   ]
  },
  {
   "cell_type": "code",
   "execution_count": null,
   "id": "7d365e74",
   "metadata": {
    "hide-output": false
   },
   "outputs": [],
   "source": [
    "shock_demand = np.array([[0], [0], [1]])\n",
    "\n",
    "econ1.irf(ts_length=25, shock=shock_demand)\n",
    "econ2.irf(ts_length=25, shock=shock_demand)\n",
    "econ3.irf(ts_length=25, shock=shock_demand)\n",
    "\n",
    "fig, (ax1, ax2) = plt.subplots(1, 2, figsize=(12, 4))\n",
    "ax1.plot(econ1.c_irf, label=r'$\\rho=0.6$')\n",
    "ax1.plot(econ2.c_irf, label=r'$\\rho=1$')\n",
    "ax1.plot(econ3.c_irf, label=r'$\\rho=0$')\n",
    "ax1.set_title('Consumption response to demand shock')\n",
    "ax1.legend()\n",
    "\n",
    "ax2.plot(econ1.k_irf[:, 0], label=r'$\\rho=0.6$')\n",
    "ax2.plot(econ2.k_irf[:, 0], label=r'$\\rho=1$')\n",
    "ax2.plot(econ3.k_irf[:, 0], label=r'$\\rho=0$')\n",
    "ax2.set_title('Breeding stock response to demand shock')\n",
    "ax2.legend()\n",
    "plt.show()"
   ]
  },
  {
   "cell_type": "markdown",
   "id": "d7b63f64",
   "metadata": {},
   "source": [
    "The above figures show how consumption patterns differ markedly,\n",
    "depending on the persistence of the demand shock:\n",
    "\n",
    "- If it is purely transitory ($ \\rho_3 = 0 $) then consumption\n",
    "  rises immediately but is later reduced to build stocks up again.  \n",
    "- If it is permanent ($ \\rho_3 = 1 $), then consumption falls\n",
    "  immediately, in order to build up stocks to satisfy the permanent\n",
    "  rise in future demand.  \n",
    "\n",
    "\n",
    "In Figure 4 of their paper, [[Rosen *et al.*, 1994](https://python-advanced.quantecon.org/zreferences.html#id71)] plot the response to a demand shock\n",
    "of the breeding stock *and* the total stock, for $ \\rho_3 = 0 $ and\n",
    "$ \\rho_3 = 0.6 $.\n",
    "\n",
    "We replicate their Figure 4 below"
   ]
  },
  {
   "cell_type": "code",
   "execution_count": null,
   "id": "a5ea252d",
   "metadata": {
    "hide-output": false
   },
   "outputs": [],
   "source": [
    "total1_irf = econ1.k_irf[:, 0] + g * econ1.k_irf[:, 1] + g * econ1.k_irf[:, 2]\n",
    "total3_irf = econ3.k_irf[:, 0] + g * econ3.k_irf[:, 1] + g * econ3.k_irf[:, 2]\n",
    "\n",
    "fig, (ax1, ax2) = plt.subplots(1, 2, figsize=(12, 4))\n",
    "ax1.plot(econ1.k_irf[:, 0], label='Breeding Stock')\n",
    "ax1.plot(total1_irf, label='Total Stock')\n",
    "ax1.set_title(r'$\\rho=0.6$')\n",
    "\n",
    "ax2.plot(econ3.k_irf[:, 0], label='Breeding Stock')\n",
    "ax2.plot(total3_irf, label='Total Stock')\n",
    "ax2.set_title(r'$\\rho=0$')\n",
    "plt.show()"
   ]
  },
  {
   "cell_type": "markdown",
   "id": "ef491f16",
   "metadata": {},
   "source": [
    "The fact that $ y_t $ is a weighted moving average of $ x_t $\n",
    "creates a humped shape response of the total stock in response to demand\n",
    "shocks, contributing to the cyclicality seen in the first graph of this\n",
    "lecture."
   ]
  }
 ],
 "metadata": {
  "date": 1730717049.1877458,
  "filename": "cattle_cycles.md",
  "kernelspec": {
   "display_name": "Python",
   "language": "python3",
   "name": "python3"
  },
  "title": "Cattle Cycles"
 },
 "nbformat": 4,
 "nbformat_minor": 5
}