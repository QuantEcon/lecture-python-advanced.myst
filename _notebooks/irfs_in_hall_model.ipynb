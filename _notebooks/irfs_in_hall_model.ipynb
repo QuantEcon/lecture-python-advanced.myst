{
 "cells": [
  {
   "cell_type": "markdown",
   "id": "ce4b1107",
   "metadata": {},
   "source": [
    "\n",
    "<a id='irfs-in-hall-model'></a>\n",
    "\n",
    "<a id='index-0'></a>"
   ]
  },
  {
   "cell_type": "markdown",
   "id": "a1acbc4e",
   "metadata": {},
   "source": [
    "# IRFs in Hall Models"
   ]
  },
  {
   "cell_type": "markdown",
   "id": "eaadb140",
   "metadata": {},
   "source": [
    "## Contents\n",
    "\n",
    "- [IRFs in Hall Models](#IRFs-in-Hall-Models)  \n",
    "  - [Example 1: Hall (1978)](#Example-1:-Hall-%281978%29)  \n",
    "  - [Example 2: Higher Adjustment Costs](#Example-2:-Higher-Adjustment-Costs)  \n",
    "  - [Example 3: Durable Consumption Goods](#Example-3:-Durable-Consumption-Goods)  "
   ]
  },
  {
   "cell_type": "markdown",
   "id": "5d1158d6",
   "metadata": {},
   "source": [
    "This is another member of a suite of lectures that use the quantecon DLE class to instantiate models within the\n",
    "[[HS13](https://python-advanced.quantecon.org/zreferences.html#id69)] class of models described in detail in [Recursive Models of Dynamic Linear Economies](https://python-advanced.quantecon.org/hs_recursive_models.html).\n",
    "\n",
    "In addition to what’s in Anaconda, this lecture uses the quantecon library."
   ]
  },
  {
   "cell_type": "code",
   "execution_count": null,
   "id": "60f15ab2",
   "metadata": {
    "hide-output": false
   },
   "outputs": [],
   "source": [
    "!pip install --upgrade quantecon"
   ]
  },
  {
   "cell_type": "markdown",
   "id": "62b9bb7f",
   "metadata": {},
   "source": [
    "We’ll make these imports:"
   ]
  },
  {
   "cell_type": "code",
   "execution_count": null,
   "id": "01fd258d",
   "metadata": {
    "hide-output": false
   },
   "outputs": [],
   "source": [
    "import numpy as np\n",
    "import matplotlib.pyplot as plt\n",
    "%matplotlib inline\n",
    "from quantecon import LQ\n",
    "from quantecon import DLE"
   ]
  },
  {
   "cell_type": "markdown",
   "id": "649318f4",
   "metadata": {},
   "source": [
    "This lecture shows how the DLE class can be used to create impulse\n",
    "response functions for three related economies, starting from\n",
    "Hall (1978) [[Hal78](https://python-advanced.quantecon.org/zreferences.html#id150)].\n",
    "\n",
    "Knowledge of the basic economic environment is assumed.\n",
    "\n",
    "See the lecture “Growth in Dynamic Linear Economies” for more details."
   ]
  },
  {
   "cell_type": "markdown",
   "id": "896070b0",
   "metadata": {},
   "source": [
    "## Example 1: Hall (1978)\n",
    "\n",
    "First, we set parameters to make consumption (almost) follow a random\n",
    "walk.\n",
    "\n",
    "We set\n",
    "\n",
    "$$\n",
    "\\lambda = 0, \\pi = 1, \\gamma_1 = 0.1, \\phi_1 = 0.00001, \\delta_k = 0.95, \\beta = \\frac{1}{1.05}\n",
    "$$\n",
    "\n",
    "(In this example $ \\delta_h $ and $ \\theta_h $ are arbitrary as\n",
    "household capital does not enter the equation for consumption services.\n",
    "\n",
    "We set them to values that will become useful in Example 3)\n",
    "\n",
    "It is worth noting that this choice of parameter values ensures that\n",
    "$ \\beta(\\gamma_1 + \\delta_k) = 1 $.\n",
    "\n",
    "For simulations of this economy, we choose an initial condition of:\n",
    "\n",
    "$$\n",
    "x_0 =\n",
    "   \\left[ {\\begin{array}{ccccc}\n",
    "   5 & 150 & 1 & 0 & 0\n",
    "   \\end{array} }\n",
    "   \\right]'\n",
    "$$"
   ]
  },
  {
   "cell_type": "code",
   "execution_count": null,
   "id": "aca67981",
   "metadata": {
    "hide-output": false
   },
   "outputs": [],
   "source": [
    "γ_1 = 0.1\n",
    "γ = np.array([[γ_1], [0]])\n",
    "ϕ_c = np.array([[1], [0]])\n",
    "ϕ_g = np.array([[0], [1]])\n",
    "ϕ_1 = 1e-5\n",
    "ϕ_i = np.array([[1], [-ϕ_1]])\n",
    "δ_k = np.array([[.95]])\n",
    "θ_k = np.array([[1]])\n",
    "β = np.array([[1 / 1.05]])\n",
    "l_λ = np.array([[0]])\n",
    "π_h = np.array([[1]])\n",
    "δ_h = np.array([[.9]])\n",
    "θ_h = np.array([[1]])\n",
    "a22 = np.array([[1,   0,   0],\n",
    "                [0, 0.8,   0],\n",
    "                [0,   0, 0.5]])\n",
    "c2 = np.array([[0, 0],\n",
    "               [1, 0],\n",
    "               [0, 1]])\n",
    "ud = np.array([[5, 1, 0],\n",
    "               [0, 0, 0]])\n",
    "ub = np.array([[30, 0, 0]])\n",
    "x0 = np.array([[5], [150], [1], [0], [0]])\n",
    "\n",
    "info1 = (a22, c2, ub, ud)\n",
    "tech1 = (ϕ_c, ϕ_g, ϕ_i, γ, δ_k, θ_k)\n",
    "pref1 = (β, l_λ, π_h, δ_h, θ_h)"
   ]
  },
  {
   "cell_type": "markdown",
   "id": "bd85e27f",
   "metadata": {},
   "source": [
    "These parameter values are used to define an economy of the DLE class.\n",
    "\n",
    "We can then simulate the economy for a chosen length of time, from our\n",
    "initial state vector $ x_0 $.\n",
    "\n",
    "The economy stores the simulated values for each variable. Below we plot\n",
    "consumption and investment:"
   ]
  },
  {
   "cell_type": "code",
   "execution_count": null,
   "id": "7a35f690",
   "metadata": {
    "hide-output": false
   },
   "outputs": [],
   "source": [
    "econ1 = DLE(info1, tech1, pref1)\n",
    "econ1.compute_sequence(x0, ts_length=300)\n",
    "\n",
    "# This is the right panel of Fig 5.7.1 from p.105 of HS2013\n",
    "plt.plot(econ1.c[0], label='Cons.')\n",
    "plt.plot(econ1.i[0], label='Inv.')\n",
    "plt.legend()\n",
    "plt.show()"
   ]
  },
  {
   "cell_type": "markdown",
   "id": "164fb242",
   "metadata": {},
   "source": [
    "The DLE class can be used to create impulse response functions for each\n",
    "of the endogenous variables: $ \\{c_t,s_t,h_t,i_t,k_t,g_t\\} $.\n",
    "\n",
    "If no selector vector for the shock is specified, the default choice is\n",
    "to give IRFs to the first shock in $ w_{t+1} $.\n",
    "\n",
    "Below we plot the impulse response functions of investment and\n",
    "consumption to an endowment innovation (the first shock) in the Hall\n",
    "model:"
   ]
  },
  {
   "cell_type": "code",
   "execution_count": null,
   "id": "3c19fa80",
   "metadata": {
    "hide-output": false
   },
   "outputs": [],
   "source": [
    "econ1.irf(ts_length=40, shock=None)\n",
    "# This is the left panel of Fig 5.7.1 from p.105 of HS2013\n",
    "plt.plot(econ1.c_irf, label='Cons.')\n",
    "plt.plot(econ1.i_irf, label='Inv.')\n",
    "plt.legend()\n",
    "plt.show()"
   ]
  },
  {
   "cell_type": "markdown",
   "id": "0e340f18",
   "metadata": {},
   "source": [
    "It can be seen that the endowment shock has permanent effects on the\n",
    "level of both consumption and investment, consistent with the endogenous\n",
    "unit eigenvalue in this economy.\n",
    "\n",
    "Investment is much more responsive to the endowment shock at shorter time\n",
    "horizons."
   ]
  },
  {
   "cell_type": "markdown",
   "id": "0f48a7a8",
   "metadata": {},
   "source": [
    "## Example 2: Higher Adjustment Costs\n",
    "\n",
    "We generate our next economy by making only one change to the parameters\n",
    "of Example 1: we raise the parameter associated with the cost of\n",
    "adjusting capital,$ \\phi_1 $, from 0.00001 to 0.2.\n",
    "\n",
    "This will lower the endogenous eigenvalue that is unity in Example 1 to\n",
    "a value slightly below 1."
   ]
  },
  {
   "cell_type": "code",
   "execution_count": null,
   "id": "20bf84f1",
   "metadata": {
    "hide-output": false
   },
   "outputs": [],
   "source": [
    "ϕ_12 = 0.2\n",
    "ϕ_i2 = np.array([[1], [-ϕ_12]])\n",
    "tech2 = (ϕ_c, ϕ_g, ϕ_i2, γ, δ_k, θ_k)\n",
    "\n",
    "econ2 = DLE(info1, tech2, pref1)\n",
    "econ2.compute_sequence(x0, ts_length = 300)\n",
    "\n",
    "# This is the right panel of Fig 5.8.1 from p.106 of HS2013\n",
    "plt.plot(econ2.c[0], label='Cons.')\n",
    "plt.plot(econ2.i[0], label='Inv.')\n",
    "plt.legend()\n",
    "plt.show()"
   ]
  },
  {
   "cell_type": "code",
   "execution_count": null,
   "id": "65bdb076",
   "metadata": {
    "hide-output": false
   },
   "outputs": [],
   "source": [
    "econ2.irf(ts_length=40,shock=None)\n",
    "# This is the left panel of Fig 5.8.1 from p.106 of HS2013\n",
    "plt.plot(econ2.c_irf,label='Cons.')\n",
    "plt.plot(econ2.i_irf,label='Inv.')\n",
    "plt.legend()\n",
    "plt.show()"
   ]
  },
  {
   "cell_type": "code",
   "execution_count": null,
   "id": "3e6e41db",
   "metadata": {
    "hide-output": false
   },
   "outputs": [],
   "source": [
    "econ2.endo"
   ]
  },
  {
   "cell_type": "code",
   "execution_count": null,
   "id": "ba0e2724",
   "metadata": {
    "hide-output": false
   },
   "outputs": [],
   "source": [
    "econ2.compute_steadystate()\n",
    "print(econ2.css, econ2.iss, econ2.kss)"
   ]
  },
  {
   "cell_type": "markdown",
   "id": "ba2ba733",
   "metadata": {},
   "source": [
    "The first graph shows that there seems to be a downward trend in both\n",
    "consumption and investment.\n",
    "\n",
    "This is a consequence of the decrease in the largest endogenous\n",
    "eigenvalue from unity in the earlier economy, caused by the higher\n",
    "adjustment cost.\n",
    "\n",
    "The present economy has a nonstochastic steady state value of 5 for\n",
    "consumption and 0 for both capital and investment.\n",
    "\n",
    "Because the largest endogenous eigenvalue is still close to 1, the\n",
    "economy heads only slowly towards these mean values.\n",
    "\n",
    "The impulse response functions now show that an endowment shock does not\n",
    "have a permanent effect on the levels of either consumption or\n",
    "investment."
   ]
  },
  {
   "cell_type": "markdown",
   "id": "9a30fafd",
   "metadata": {},
   "source": [
    "## Example 3: Durable Consumption Goods\n",
    "\n",
    "We generate our third economy by raising $ \\phi_1 $ further, to 1.0.\n",
    "We also raise the production function parameter from 0.1 to 0.15 (which\n",
    "raises the non-stochastic steady state value of capital above zero).\n",
    "\n",
    "We also change the specification of preferences to make the consumption\n",
    "good *durable*.\n",
    "\n",
    "Specifically, we allow for a single durable household good obeying:\n",
    "\n",
    "$$\n",
    "h_t = \\delta_h h_{t-1} + c_t \\, ,  0<\\delta_h<1\n",
    "$$\n",
    "\n",
    "Services are related to the stock of durables at the beginning of the\n",
    "period:\n",
    "\n",
    "$$\n",
    "s_t = \\lambda h_{t-1} \\, ,  \\lambda > 0\n",
    "$$\n",
    "\n",
    "And preferences are ordered by:\n",
    "\n",
    "$$\n",
    "- \\frac{1}{2} \\mathbb{E} \\sum_{t=0}^\\infty \\beta^t [(\\lambda h_{t-1} - b_t)^2 + l_t^2]|J_0\n",
    "$$\n",
    "\n",
    "To implement this, we set $ \\lambda=0.1 $ and $ \\pi = 0 $ (we\n",
    "have already set $ \\theta_h = 1 $ and $ \\delta_h = 0.9 $).\n",
    "\n",
    "We start from an initial condition that makes consumption begin near\n",
    "around its non-stochastic steady state."
   ]
  },
  {
   "cell_type": "code",
   "execution_count": null,
   "id": "0fee1fd7",
   "metadata": {
    "hide-output": false
   },
   "outputs": [],
   "source": [
    "ϕ_13 = 1\n",
    "ϕ_i3 = np.array([[1], [-ϕ_13]])\n",
    "\n",
    "γ_12 = 0.15\n",
    "γ_2 = np.array([[γ_12], [0]])\n",
    "\n",
    "l_λ2 = np.array([[0.1]])\n",
    "π_h2 = np.array([[0]])\n",
    "\n",
    "x01 = np.array([[150], [100], [1], [0], [0]])\n",
    "\n",
    "tech3 = (ϕ_c, ϕ_g, ϕ_i3, γ_2, δ_k, θ_k)\n",
    "pref2 = (β, l_λ2, π_h2, δ_h, θ_h)\n",
    "\n",
    "econ3 = DLE(info1, tech3, pref2)\n",
    "econ3.compute_sequence(x01, ts_length=300)\n",
    "\n",
    "# This is the right panel of Fig 5.11.1 from p.111 of HS2013\n",
    "plt.plot(econ3.c[0], label='Cons.')\n",
    "plt.plot(econ3.i[0], label='Inv.')\n",
    "plt.legend()\n",
    "plt.show()"
   ]
  },
  {
   "cell_type": "markdown",
   "id": "a7a2d1f0",
   "metadata": {},
   "source": [
    "In contrast to Hall’s original model of Example 1, it is now investment\n",
    "that is much smoother than consumption.\n",
    "\n",
    "This illustrates how making consumption goods durable tends to undo the\n",
    "strong consumption smoothing result that Hall obtained."
   ]
  },
  {
   "cell_type": "code",
   "execution_count": null,
   "id": "1430bf76",
   "metadata": {
    "hide-output": false
   },
   "outputs": [],
   "source": [
    "econ3.irf(ts_length=40, shock=None)\n",
    "# This is the left panel of Fig 5.11.1 from p.111 of HS2013\n",
    "plt.plot(econ3.c_irf, label='Cons.')\n",
    "plt.plot(econ3.i_irf, label='Inv.')\n",
    "plt.legend()\n",
    "plt.show()"
   ]
  },
  {
   "cell_type": "markdown",
   "id": "2e00a60b",
   "metadata": {},
   "source": [
    "The impulse response functions confirm that consumption is now much more\n",
    "responsive to an endowment shock (and investment less so) than in\n",
    "Example 1.\n",
    "\n",
    "As in Example 2, the endowment shock has permanent effects on\n",
    "neither variable."
   ]
  }
 ],
 "metadata": {
  "date": 1643316734.649302,
  "filename": "irfs_in_hall_model.md",
  "kernelspec": {
   "display_name": "Python",
   "language": "python3",
   "name": "python3"
  },
  "title": "IRFs in Hall Models"
 },
 "nbformat": 4,
 "nbformat_minor": 5
}