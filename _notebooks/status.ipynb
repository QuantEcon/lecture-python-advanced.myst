{
 "cells": [
  {
   "cell_type": "markdown",
   "id": "3b95d78a",
   "metadata": {},
   "source": [
    "# Execution Statistics\n",
    "\n",
    "This table contains the latest execution statistics.\n",
    "\n",
    "[](https://python-advanced.quantecon.org/BCG_complete_mkts.html)[](https://python-advanced.quantecon.org/BCG_incomplete_mkts.html)[](https://python-advanced.quantecon.org/additive_functionals.html)[](https://python-advanced.quantecon.org/amss.html)[](https://python-advanced.quantecon.org/amss2.html)[](https://python-advanced.quantecon.org/amss3.html)[](https://python-advanced.quantecon.org/arellano.html)[](https://python-advanced.quantecon.org/arma.html)[](https://python-advanced.quantecon.org/asset_pricing_lph.html)[](https://python-advanced.quantecon.org/black_litterman.html)[](https://python-advanced.quantecon.org/calvo.html)[](https://python-advanced.quantecon.org/calvo_abreu.html)[](https://python-advanced.quantecon.org/calvo_machine_learn.html)[](https://python-advanced.quantecon.org/cattle_cycles.html)[](https://python-advanced.quantecon.org/chang_credible.html)[](https://python-advanced.quantecon.org/chang_ramsey.html)[](https://python-advanced.quantecon.org/classical_filtering.html)[](https://python-advanced.quantecon.org/coase.html)[](https://python-advanced.quantecon.org/cons_news.html)[](https://python-advanced.quantecon.org/discrete_dp.html)[](https://python-advanced.quantecon.org/dyn_stack.html)[](https://python-advanced.quantecon.org/entropy.html)[](https://python-advanced.quantecon.org/estspec.html)[](https://python-advanced.quantecon.org/five_preferences.html)[](https://python-advanced.quantecon.org/growth_in_dles.html)[](https://python-advanced.quantecon.org/hs_invertibility_example.html)[](https://python-advanced.quantecon.org/hs_recursive_models.html)[](https://python-advanced.quantecon.org/intro.html)[](https://python-advanced.quantecon.org/irfs_in_hall_model.html)[](https://python-advanced.quantecon.org/knowing_forecasts_of_others.html)[](https://python-advanced.quantecon.org/lqramsey.html)[](https://python-advanced.quantecon.org/lu_tricks.html)[](https://python-advanced.quantecon.org/lucas_asset_pricing_dles.html)[](https://python-advanced.quantecon.org/lucas_model.html)[](https://python-advanced.quantecon.org/markov_jump_lq.html)[](https://python-advanced.quantecon.org/match_transport.html)[](https://python-advanced.quantecon.org/matsuyama.html)[](https://python-advanced.quantecon.org/muth_kalman.html)[](https://python-advanced.quantecon.org/opt_tax_recur.html)[](https://python-advanced.quantecon.org/orth_proj.html)[](https://python-advanced.quantecon.org/permanent_income_dles.html)[](https://python-advanced.quantecon.org/rob_markov_perf.html)[](https://python-advanced.quantecon.org/robustness.html)[](https://python-advanced.quantecon.org/rosen_schooling_model.html)[](https://python-advanced.quantecon.org/smoothing.html)[](https://python-advanced.quantecon.org/smoothing_tax.html)[](https://python-advanced.quantecon.org/stationary_densities.html)[](https://python-advanced.quantecon.org/.html)[](https://python-advanced.quantecon.org/tax_smoothing_1.html)[](https://python-advanced.quantecon.org/tax_smoothing_2.html)[](https://python-advanced.quantecon.org/tax_smoothing_3.html)[](https://python-advanced.quantecon.org/troubleshooting.html)[](https://python-advanced.quantecon.org/un_insure.html)[](https://python-advanced.quantecon.org/zreferences.html)|Document|Modified|Method|Run Time (s)|Status|\n",
    "|:------------------:|:------------------:|:------------------:|:------------------:|:------------------:|\n",
    "|BCG_complete_mkts|2025-05-26 03:31|cache|50.22|✅|\n",
    "|BCG_incomplete_mkts|2025-05-26 03:32|cache|83.38|✅|\n",
    "|additive_functionals|2025-05-26 03:32|cache|13.94|✅|\n",
    "|amss|2025-05-26 03:36|cache|199.02|✅|\n",
    "|amss2|2025-05-26 03:37|cache|60.29|✅|\n",
    "|amss3|2025-05-26 03:41|cache|266.34|✅|\n",
    "|arellano|2025-05-26 03:43|cache|83.59|✅|\n",
    "|arma|2025-05-26 03:43|cache|6.93|✅|\n",
    "|asset_pricing_lph|2025-05-26 03:43|cache|2.75|✅|\n",
    "|black_litterman|2025-05-26 03:43|cache|32.58|✅|\n",
    "|calvo|2025-05-26 03:43|cache|9.3|✅|\n",
    "|calvo_abreu|2025-05-26 03:44|cache|4.13|✅|\n",
    "|calvo_machine_learn|2025-05-26 03:44|cache|19.33|✅|\n",
    "|cattle_cycles|2025-05-26 03:44|cache|3.95|✅|\n",
    "|chang_credible|2025-05-28 03:31|cache|158.6|✅|\n",
    "|chang_ramsey|2025-05-28 03:37|cache|344.66|✅|\n",
    "|classical_filtering|2025-05-26 03:52|cache|1.35|✅|\n",
    "|coase|2025-05-26 03:52|cache|3.99|✅|\n",
    "|cons_news|2025-05-26 03:53|cache|4.33|✅|\n",
    "|discrete_dp|2025-05-26 03:53|cache|29.83|✅|\n",
    "|dyn_stack|2025-05-26 03:53|cache|6.02|✅|\n",
    "|entropy|2025-05-26 03:53|cache|1.08|✅|\n",
    "|estspec|2025-05-26 03:53|cache|4.75|✅|\n",
    "|five_preferences|2025-05-26 03:54|cache|51.72|✅|\n",
    "|growth_in_dles|2025-05-26 03:54|cache|3.95|✅|\n",
    "|hs_invertibility_example|2025-05-26 03:54|cache|4.15|✅|\n",
    "|hs_recursive_models|2025-05-26 03:54|cache|0.86|✅|\n",
    "|intro|2025-05-26 03:54|cache|0.86|✅|\n",
    "|irfs_in_hall_model|2025-05-26 03:54|cache|3.91|✅|\n",
    "|knowing_forecasts_of_others|2025-05-26 03:55|cache|19.78|✅|\n",
    "|lqramsey|2025-05-26 03:55|cache|5.55|✅|\n",
    "|lu_tricks|2025-05-26 03:55|cache|2.37|✅|\n",
    "|lucas_asset_pricing_dles|2025-05-26 03:55|cache|4.14|✅|\n",
    "|lucas_model|2025-05-26 03:55|cache|13.34|✅|\n",
    "|markov_jump_lq|2025-05-26 03:56|cache|77.56|✅|\n",
    "|match_transport|2025-05-26 03:57|cache|22.51|✅|\n",
    "|matsuyama|2025-05-26 03:57|cache|6.87|✅|\n",
    "|muth_kalman|2025-05-26 03:57|cache|4.28|✅|\n",
    "|opt_tax_recur|2025-05-26 03:58|cache|72.22|✅|\n",
    "|orth_proj|2025-05-26 03:58|cache|1.3|✅|\n",
    "|permanent_income_dles|2025-05-26 03:58|cache|4.03|✅|\n",
    "|rob_markov_perf|2025-05-26 03:58|cache|4.11|✅|\n",
    "|robustness|2025-05-26 03:58|cache|4.5|✅|\n",
    "|rosen_schooling_model|2025-05-26 03:59|cache|3.89|✅|\n",
    "|smoothing|2025-05-26 03:59|cache|4.34|✅|\n",
    "|smoothing_tax|2025-05-26 03:59|cache|6.61|✅|\n",
    "|stationary_densities|2025-05-26 03:59|cache|8.26|✅|\n",
    "|status|2025-05-26 03:59|cache|4.39|✅|\n",
    "|tax_smoothing_1|2025-05-26 03:59|cache|10.99|✅|\n",
    "|tax_smoothing_2|2025-05-26 03:59|cache|4.68|✅|\n",
    "|tax_smoothing_3|2025-05-26 03:59|cache|4.81|✅|\n",
    "|troubleshooting|2025-05-26 03:54|cache|0.86|✅|\n",
    "|un_insure|2025-05-26 03:59|cache|12.32|✅|\n",
    "|zreferences|2025-05-26 03:54|cache|0.86|✅|\n",
    "\n",
    "<a id='status-machine-details'></a>\n",
    "These lectures are built on `linux` instances through `github actions`.\n",
    "\n",
    "These lectures are using the following python version"
   ]
  },
  {
   "cell_type": "code",
   "execution_count": null,
   "id": "f2b610b3",
   "metadata": {
    "hide-output": false
   },
   "outputs": [],
   "source": [
    "!python --version"
   ]
  },
  {
   "cell_type": "markdown",
   "id": "2ef14ba9",
   "metadata": {},
   "source": [
    "and the following package versions"
   ]
  },
  {
   "cell_type": "code",
   "execution_count": null,
   "id": "97898266",
   "metadata": {
    "hide-output": false
   },
   "outputs": [],
   "source": [
    "!conda list"
   ]
  }
 ],
 "metadata": {
  "date": 1748403616.9889958,
  "filename": "status.md",
  "kernelspec": {
   "display_name": "Python",
   "language": "python3",
   "name": "python3"
  },
  "title": "Execution Statistics"
 },
 "nbformat": 4,
 "nbformat_minor": 5
}