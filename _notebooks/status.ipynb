{
 "cells": [
  {
   "cell_type": "markdown",
   "id": "9020b434",
   "metadata": {},
   "source": [
    "# Execution Statistics\n",
    "\n",
    "This table contains the latest execution statistics.\n",
    "\n",
    "[](https://python-advanced.quantecon.org/BCG_complete_mkts.html)[](https://python-advanced.quantecon.org/BCG_incomplete_mkts.html)[](https://python-advanced.quantecon.org/additive_functionals.html)[](https://python-advanced.quantecon.org/amss.html)[](https://python-advanced.quantecon.org/amss2.html)[](https://python-advanced.quantecon.org/amss3.html)[](https://python-advanced.quantecon.org/arellano.html)[](https://python-advanced.quantecon.org/arma.html)[](https://python-advanced.quantecon.org/asset_pricing_lph.html)[](https://python-advanced.quantecon.org/black_litterman.html)[](https://python-advanced.quantecon.org/calvo.html)[](https://python-advanced.quantecon.org/calvo_abreu.html)[](https://python-advanced.quantecon.org/calvo_machine_learn.html)[](https://python-advanced.quantecon.org/cattle_cycles.html)[](https://python-advanced.quantecon.org/chang_credible.html)[](https://python-advanced.quantecon.org/chang_ramsey.html)[](https://python-advanced.quantecon.org/classical_filtering.html)[](https://python-advanced.quantecon.org/coase.html)[](https://python-advanced.quantecon.org/cons_news.html)[](https://python-advanced.quantecon.org/discrete_dp.html)[](https://python-advanced.quantecon.org/dyn_stack.html)[](https://python-advanced.quantecon.org/entropy.html)[](https://python-advanced.quantecon.org/estspec.html)[](https://python-advanced.quantecon.org/five_preferences.html)[](https://python-advanced.quantecon.org/growth_in_dles.html)[](https://python-advanced.quantecon.org/hs_invertibility_example.html)[](https://python-advanced.quantecon.org/hs_recursive_models.html)[](https://python-advanced.quantecon.org/intro.html)[](https://python-advanced.quantecon.org/irfs_in_hall_model.html)[](https://python-advanced.quantecon.org/knowing_forecasts_of_others.html)[](https://python-advanced.quantecon.org/lqramsey.html)[](https://python-advanced.quantecon.org/lu_tricks.html)[](https://python-advanced.quantecon.org/lucas_asset_pricing_dles.html)[](https://python-advanced.quantecon.org/lucas_model.html)[](https://python-advanced.quantecon.org/markov_jump_lq.html)[](https://python-advanced.quantecon.org/match_transport.html)[](https://python-advanced.quantecon.org/matsuyama.html)[](https://python-advanced.quantecon.org/muth_kalman.html)[](https://python-advanced.quantecon.org/opt_tax_recur.html)[](https://python-advanced.quantecon.org/orth_proj.html)[](https://python-advanced.quantecon.org/permanent_income_dles.html)[](https://python-advanced.quantecon.org/rob_markov_perf.html)[](https://python-advanced.quantecon.org/robustness.html)[](https://python-advanced.quantecon.org/rosen_schooling_model.html)[](https://python-advanced.quantecon.org/smoothing.html)[](https://python-advanced.quantecon.org/smoothing_tax.html)[](https://python-advanced.quantecon.org/stationary_densities.html)[](https://python-advanced.quantecon.org/.html)[](https://python-advanced.quantecon.org/tax_smoothing_1.html)[](https://python-advanced.quantecon.org/tax_smoothing_2.html)[](https://python-advanced.quantecon.org/tax_smoothing_3.html)[](https://python-advanced.quantecon.org/troubleshooting.html)[](https://python-advanced.quantecon.org/un_insure.html)[](https://python-advanced.quantecon.org/zreferences.html)|Document|Modified|Method|Run Time (s)|Status|\n",
    "|:------------------:|:------------------:|:------------------:|:------------------:|:------------------:|\n",
    "|BCG_complete_mkts|2025-02-17 03:15|cache|48.29|✅|\n",
    "|BCG_incomplete_mkts|2025-02-17 03:17|cache|82.6|✅|\n",
    "|additive_functionals|2025-02-17 03:17|cache|13.4|✅|\n",
    "|amss|2025-02-17 03:20|cache|185.83|✅|\n",
    "|amss2|2025-02-17 03:21|cache|60.41|✅|\n",
    "|amss3|2025-02-17 03:26|cache|272.94|✅|\n",
    "|arellano|2025-02-17 03:27|cache|82.22|✅|\n",
    "|arma|2025-02-17 03:27|cache|6.66|✅|\n",
    "|asset_pricing_lph|2025-02-17 03:27|cache|2.59|✅|\n",
    "|black_litterman|2025-02-17 03:28|cache|30.84|✅|\n",
    "|calvo|2025-02-17 03:28|cache|8.83|✅|\n",
    "|calvo_abreu|2025-02-17 03:28|cache|3.75|✅|\n",
    "|calvo_machine_learn|2025-02-17 22:20|cache|24.72|✅|\n",
    "|cattle_cycles|2025-02-17 03:28|cache|3.65|✅|\n",
    "|chang_credible|2025-02-17 03:31|cache|156.58|✅|\n",
    "|chang_ramsey|2025-02-17 03:37|cache|351.21|✅|\n",
    "|classical_filtering|2025-02-17 03:37|cache|1.45|✅|\n",
    "|coase|2025-02-17 03:37|cache|4.29|✅|\n",
    "|cons_news|2025-02-17 03:37|cache|4.33|✅|\n",
    "|discrete_dp|2025-02-17 03:37|cache|30.41|✅|\n",
    "|dyn_stack|2025-02-17 03:38|cache|5.88|✅|\n",
    "|entropy|2025-02-17 03:38|cache|1.04|✅|\n",
    "|estspec|2025-02-17 03:38|cache|4.63|✅|\n",
    "|five_preferences|2025-02-17 03:39|cache|51.25|✅|\n",
    "|growth_in_dles|2025-02-17 03:39|cache|4.12|✅|\n",
    "|hs_invertibility_example|2025-02-17 03:39|cache|4.27|✅|\n",
    "|hs_recursive_models|2025-02-17 03:39|cache|0.99|✅|\n",
    "|intro|2025-02-17 03:39|cache|0.99|✅|\n",
    "|irfs_in_hall_model|2025-02-17 03:39|cache|4.1|✅|\n",
    "|knowing_forecasts_of_others|2025-02-17 03:39|cache|22.34|✅|\n",
    "|lqramsey|2025-02-17 03:39|cache|5.04|✅|\n",
    "|lu_tricks|2025-02-17 03:39|cache|2.09|✅|\n",
    "|lucas_asset_pricing_dles|2025-02-17 03:39|cache|3.83|✅|\n",
    "|lucas_model|2025-02-17 03:40|cache|12.42|✅|\n",
    "|markov_jump_lq|2025-02-17 03:41|cache|77.98|✅|\n",
    "|match_transport|2025-02-17 03:41|cache|22.91|✅|\n",
    "|matsuyama|2025-02-17 03:41|cache|6.7|✅|\n",
    "|muth_kalman|2025-02-17 03:41|cache|4.05|✅|\n",
    "|opt_tax_recur|2025-02-17 03:43|cache|69.65|✅|\n",
    "|orth_proj|2025-02-17 03:43|cache|1.34|✅|\n",
    "|permanent_income_dles|2025-02-17 03:43|cache|4.06|✅|\n",
    "|rob_markov_perf|2025-02-17 03:43|cache|3.84|✅|\n",
    "|robustness|2025-02-17 03:43|cache|4.59|✅|\n",
    "|rosen_schooling_model|2025-02-17 03:43|cache|4.04|✅|\n",
    "|smoothing|2025-02-17 03:43|cache|4.21|✅|\n",
    "|smoothing_tax|2025-02-17 03:43|cache|6.41|✅|\n",
    "|stationary_densities|2025-02-17 03:43|cache|8.34|✅|\n",
    "|status|2025-02-17 03:43|cache|4.36|✅|\n",
    "|tax_smoothing_1|2025-02-17 03:43|cache|10.82|✅|\n",
    "|tax_smoothing_2|2025-02-17 03:44|cache|4.4|✅|\n",
    "|tax_smoothing_3|2025-02-17 03:44|cache|4.46|✅|\n",
    "|troubleshooting|2025-02-17 03:39|cache|0.99|✅|\n",
    "|un_insure|2025-02-17 03:44|cache|12.25|✅|\n",
    "|zreferences|2025-02-17 03:39|cache|0.99|✅|\n",
    "\n",
    "<a id='status-machine-details'></a>\n",
    "These lectures are built on `linux` instances through `github actions`.\n",
    "\n",
    "These lectures are using the following python version"
   ]
  },
  {
   "cell_type": "code",
   "execution_count": null,
   "id": "235e56e9",
   "metadata": {
    "hide-output": false
   },
   "outputs": [],
   "source": [
    "!python --version"
   ]
  },
  {
   "cell_type": "markdown",
   "id": "2799120e",
   "metadata": {},
   "source": [
    "and the following package versions"
   ]
  },
  {
   "cell_type": "code",
   "execution_count": null,
   "id": "0ee550e1",
   "metadata": {
    "hide-output": false
   },
   "outputs": [],
   "source": [
    "!conda list"
   ]
  }
 ],
 "metadata": {
  "date": 1739830995.107287,
  "filename": "status.md",
  "kernelspec": {
   "display_name": "Python",
   "language": "python3",
   "name": "python3"
  },
  "title": "Execution Statistics"
 },
 "nbformat": 4,
 "nbformat_minor": 5
}