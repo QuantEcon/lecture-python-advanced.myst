{
 "cells": [
  {
   "cell_type": "markdown",
   "id": "f96dfdc7",
   "metadata": {},
   "source": [
    "# Execution Statistics\n",
    "\n",
    "This table contains the latest execution statistics.\n",
    "\n",
    "[](https://python-advanced.quantecon.org/BCG_complete_mkts.html)[](https://python-advanced.quantecon.org/BCG_incomplete_mkts.html)[](https://python-advanced.quantecon.org/additive_functionals.html)[](https://python-advanced.quantecon.org/amss.html)[](https://python-advanced.quantecon.org/amss2.html)[](https://python-advanced.quantecon.org/amss3.html)[](https://python-advanced.quantecon.org/arellano.html)[](https://python-advanced.quantecon.org/arma.html)[](https://python-advanced.quantecon.org/asset_pricing_lph.html)[](https://python-advanced.quantecon.org/black_litterman.html)[](https://python-advanced.quantecon.org/calvo.html)[](https://python-advanced.quantecon.org/calvo_abreu.html)[](https://python-advanced.quantecon.org/calvo_machine_learn.html)[](https://python-advanced.quantecon.org/cattle_cycles.html)[](https://python-advanced.quantecon.org/chang_credible.html)[](https://python-advanced.quantecon.org/chang_ramsey.html)[](https://python-advanced.quantecon.org/classical_filtering.html)[](https://python-advanced.quantecon.org/coase.html)[](https://python-advanced.quantecon.org/cons_news.html)[](https://python-advanced.quantecon.org/discrete_dp.html)[](https://python-advanced.quantecon.org/dyn_stack.html)[](https://python-advanced.quantecon.org/entropy.html)[](https://python-advanced.quantecon.org/estspec.html)[](https://python-advanced.quantecon.org/five_preferences.html)[](https://python-advanced.quantecon.org/growth_in_dles.html)[](https://python-advanced.quantecon.org/hs_invertibility_example.html)[](https://python-advanced.quantecon.org/hs_recursive_models.html)[](https://python-advanced.quantecon.org/intro.html)[](https://python-advanced.quantecon.org/irfs_in_hall_model.html)[](https://python-advanced.quantecon.org/knowing_forecasts_of_others.html)[](https://python-advanced.quantecon.org/lqramsey.html)[](https://python-advanced.quantecon.org/lu_tricks.html)[](https://python-advanced.quantecon.org/lucas_asset_pricing_dles.html)[](https://python-advanced.quantecon.org/lucas_model.html)[](https://python-advanced.quantecon.org/markov_jump_lq.html)[](https://python-advanced.quantecon.org/match_transport.html)[](https://python-advanced.quantecon.org/matsuyama.html)[](https://python-advanced.quantecon.org/muth_kalman.html)[](https://python-advanced.quantecon.org/opt_tax_recur.html)[](https://python-advanced.quantecon.org/orth_proj.html)[](https://python-advanced.quantecon.org/permanent_income_dles.html)[](https://python-advanced.quantecon.org/rob_markov_perf.html)[](https://python-advanced.quantecon.org/robustness.html)[](https://python-advanced.quantecon.org/rosen_schooling_model.html)[](https://python-advanced.quantecon.org/smoothing.html)[](https://python-advanced.quantecon.org/smoothing_tax.html)[](https://python-advanced.quantecon.org/stationary_densities.html)[](https://python-advanced.quantecon.org/.html)[](https://python-advanced.quantecon.org/tax_smoothing_1.html)[](https://python-advanced.quantecon.org/tax_smoothing_2.html)[](https://python-advanced.quantecon.org/tax_smoothing_3.html)[](https://python-advanced.quantecon.org/troubleshooting.html)[](https://python-advanced.quantecon.org/un_insure.html)[](https://python-advanced.quantecon.org/zreferences.html)|Document|Modified|Method|Run Time (s)|Status|\n",
    "|:------------------:|:------------------:|:------------------:|:------------------:|:------------------:|\n",
    "|BCG_complete_mkts|2025-01-27 03:12|cache|49.37|✅|\n",
    "|BCG_incomplete_mkts|2025-01-27 03:13|cache|88.05|✅|\n",
    "|additive_functionals|2025-01-27 03:14|cache|13.37|✅|\n",
    "|amss|2025-01-27 03:17|cache|184.8|✅|\n",
    "|amss2|2025-01-27 03:18|cache|59.15|✅|\n",
    "|amss3|2025-01-27 03:22|cache|266.31|✅|\n",
    "|arellano|2025-01-27 03:23|cache|82.08|✅|\n",
    "|arma|2025-01-27 03:24|cache|6.63|✅|\n",
    "|asset_pricing_lph|2025-01-27 03:24|cache|2.72|✅|\n",
    "|black_litterman|2025-01-27 03:24|cache|31.73|✅|\n",
    "|calvo|2025-01-27 03:24|cache|8.67|✅|\n",
    "|calvo_abreu|2025-01-30 04:07|cache|9.84|✅|\n",
    "|calvo_machine_learn|2025-01-27 03:25|cache|17.62|✅|\n",
    "|cattle_cycles|2025-01-27 03:25|cache|3.86|✅|\n",
    "|chang_credible|2025-01-27 03:27|cache|154.39|✅|\n",
    "|chang_ramsey|2025-01-27 03:33|cache|344.08|✅|\n",
    "|classical_filtering|2025-01-27 03:33|cache|1.46|✅|\n",
    "|coase|2025-01-27 03:33|cache|3.83|✅|\n",
    "|cons_news|2025-01-27 03:33|cache|4.19|✅|\n",
    "|discrete_dp|2025-01-27 03:34|cache|29.99|✅|\n",
    "|dyn_stack|2025-01-27 03:34|cache|5.52|✅|\n",
    "|entropy|2025-01-27 03:34|cache|0.83|✅|\n",
    "|estspec|2025-01-27 03:34|cache|4.34|✅|\n",
    "|five_preferences|2025-01-27 03:35|cache|48.86|✅|\n",
    "|growth_in_dles|2025-01-27 03:35|cache|3.77|✅|\n",
    "|hs_invertibility_example|2025-01-27 03:35|cache|3.82|✅|\n",
    "|hs_recursive_models|2025-01-27 03:35|cache|0.83|✅|\n",
    "|intro|2025-01-27 03:35|cache|0.83|✅|\n",
    "|irfs_in_hall_model|2025-01-27 03:35|cache|3.8|✅|\n",
    "|knowing_forecasts_of_others|2025-01-27 03:35|cache|24.07|✅|\n",
    "|lqramsey|2025-01-27 03:35|cache|5.3|✅|\n",
    "|lu_tricks|2025-01-27 03:35|cache|2.2|✅|\n",
    "|lucas_asset_pricing_dles|2025-01-27 03:36|cache|3.59|✅|\n",
    "|lucas_model|2025-01-27 03:36|cache|12.33|✅|\n",
    "|markov_jump_lq|2025-01-27 03:37|cache|76.25|✅|\n",
    "|match_transport|2025-01-27 03:37|cache|21.28|✅|\n",
    "|matsuyama|2025-01-27 03:37|cache|6.72|✅|\n",
    "|muth_kalman|2025-01-27 03:38|cache|4.14|✅|\n",
    "|opt_tax_recur|2025-01-27 03:39|cache|67.54|✅|\n",
    "|orth_proj|2025-01-27 03:39|cache|1.0|✅|\n",
    "|permanent_income_dles|2025-01-27 03:39|cache|3.64|✅|\n",
    "|rob_markov_perf|2025-01-27 03:39|cache|3.8|✅|\n",
    "|robustness|2025-01-27 03:39|cache|5.35|✅|\n",
    "|rosen_schooling_model|2025-01-27 03:39|cache|3.85|✅|\n",
    "|smoothing|2025-01-27 03:39|cache|4.07|✅|\n",
    "|smoothing_tax|2025-01-27 03:39|cache|6.38|✅|\n",
    "|stationary_densities|2025-01-27 03:39|cache|7.77|✅|\n",
    "|status|2025-01-27 03:39|cache|4.31|✅|\n",
    "|tax_smoothing_1|2025-01-27 03:40|cache|10.64|✅|\n",
    "|tax_smoothing_2|2025-01-27 03:40|cache|4.18|✅|\n",
    "|tax_smoothing_3|2025-01-27 03:40|cache|4.33|✅|\n",
    "|troubleshooting|2025-01-27 03:35|cache|0.83|✅|\n",
    "|un_insure|2025-01-27 03:40|cache|12.08|✅|\n",
    "|zreferences|2025-01-27 03:35|cache|0.83|✅|\n",
    "\n",
    "<a id='status-machine-details'></a>\n",
    "These lectures are built on `linux` instances through `github actions`.\n",
    "\n",
    "These lectures are using the following python version"
   ]
  },
  {
   "cell_type": "code",
   "execution_count": null,
   "id": "70816d6e",
   "metadata": {
    "hide-output": false
   },
   "outputs": [],
   "source": [
    "!python --version"
   ]
  },
  {
   "cell_type": "markdown",
   "id": "d818e933",
   "metadata": {},
   "source": [
    "and the following package versions"
   ]
  },
  {
   "cell_type": "code",
   "execution_count": null,
   "id": "ac2092a4",
   "metadata": {
    "hide-output": false
   },
   "outputs": [],
   "source": [
    "!conda list"
   ]
  }
 ],
 "metadata": {
  "date": 1738210235.1182115,
  "filename": "status.md",
  "kernelspec": {
   "display_name": "Python",
   "language": "python3",
   "name": "python3"
  },
  "title": "Execution Statistics"
 },
 "nbformat": 4,
 "nbformat_minor": 5
}