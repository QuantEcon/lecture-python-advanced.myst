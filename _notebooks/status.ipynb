{
 "cells": [
  {
   "cell_type": "markdown",
   "id": "60ea87d8",
   "metadata": {},
   "source": [
    "# Execution Statistics\n",
    "\n",
    "This table contains the latest execution statistics.\n",
    "\n",
    "[](https://python-advanced.quantecon.org/BCG_complete_mkts.html)[](https://python-advanced.quantecon.org/BCG_incomplete_mkts.html)[](https://python-advanced.quantecon.org/additive_functionals.html)[](https://python-advanced.quantecon.org/amss.html)[](https://python-advanced.quantecon.org/amss2.html)[](https://python-advanced.quantecon.org/amss3.html)[](https://python-advanced.quantecon.org/arellano.html)[](https://python-advanced.quantecon.org/arma.html)[](https://python-advanced.quantecon.org/asset_pricing_lph.html)[](https://python-advanced.quantecon.org/black_litterman.html)[](https://python-advanced.quantecon.org/calvo.html)[](https://python-advanced.quantecon.org/calvo_abreu.html)[](https://python-advanced.quantecon.org/calvo_machine_learn.html)[](https://python-advanced.quantecon.org/cattle_cycles.html)[](https://python-advanced.quantecon.org/chang_credible.html)[](https://python-advanced.quantecon.org/chang_ramsey.html)[](https://python-advanced.quantecon.org/classical_filtering.html)[](https://python-advanced.quantecon.org/coase.html)[](https://python-advanced.quantecon.org/cons_news.html)[](https://python-advanced.quantecon.org/discrete_dp.html)[](https://python-advanced.quantecon.org/dyn_stack.html)[](https://python-advanced.quantecon.org/entropy.html)[](https://python-advanced.quantecon.org/estspec.html)[](https://python-advanced.quantecon.org/five_preferences.html)[](https://python-advanced.quantecon.org/growth_in_dles.html)[](https://python-advanced.quantecon.org/hs_invertibility_example.html)[](https://python-advanced.quantecon.org/hs_recursive_models.html)[](https://python-advanced.quantecon.org/intro.html)[](https://python-advanced.quantecon.org/irfs_in_hall_model.html)[](https://python-advanced.quantecon.org/knowing_forecasts_of_others.html)[](https://python-advanced.quantecon.org/lqramsey.html)[](https://python-advanced.quantecon.org/lu_tricks.html)[](https://python-advanced.quantecon.org/lucas_asset_pricing_dles.html)[](https://python-advanced.quantecon.org/lucas_model.html)[](https://python-advanced.quantecon.org/markov_jump_lq.html)[](https://python-advanced.quantecon.org/match_transport.html)[](https://python-advanced.quantecon.org/matsuyama.html)[](https://python-advanced.quantecon.org/muth_kalman.html)[](https://python-advanced.quantecon.org/opt_tax_recur.html)[](https://python-advanced.quantecon.org/orth_proj.html)[](https://python-advanced.quantecon.org/permanent_income_dles.html)[](https://python-advanced.quantecon.org/rob_markov_perf.html)[](https://python-advanced.quantecon.org/robustness.html)[](https://python-advanced.quantecon.org/rosen_schooling_model.html)[](https://python-advanced.quantecon.org/smoothing.html)[](https://python-advanced.quantecon.org/smoothing_tax.html)[](https://python-advanced.quantecon.org/stationary_densities.html)[](https://python-advanced.quantecon.org/.html)[](https://python-advanced.quantecon.org/tax_smoothing_1.html)[](https://python-advanced.quantecon.org/tax_smoothing_2.html)[](https://python-advanced.quantecon.org/tax_smoothing_3.html)[](https://python-advanced.quantecon.org/troubleshooting.html)[](https://python-advanced.quantecon.org/un_insure.html)[](https://python-advanced.quantecon.org/zreferences.html)|Document|Modified|Method|Run Time (s)|Status|\n",
    "|:------------------:|:------------------:|:------------------:|:------------------:|:------------------:|\n",
    "|BCG_complete_mkts|2025-09-23 00:36|cache|54.46|✅|\n",
    "|BCG_incomplete_mkts|2025-09-23 00:37|cache|92.91|✅|\n",
    "|additive_functionals|2025-09-23 00:37|cache|17.52|✅|\n",
    "|amss|2025-09-23 00:41|cache|221.11|✅|\n",
    "|amss2|2025-09-23 00:42|cache|62.88|✅|\n",
    "|amss3|2025-09-23 00:46|cache|260.41|✅|\n",
    "|arellano|2025-09-23 00:48|cache|89.02|✅|\n",
    "|arma|2025-09-23 00:48|cache|6.52|✅|\n",
    "|asset_pricing_lph|2025-09-23 00:48|cache|2.63|✅|\n",
    "|black_litterman|2025-09-23 00:49|cache|35.21|✅|\n",
    "|calvo|2025-09-23 00:49|cache|9.0|✅|\n",
    "|calvo_abreu|2025-09-23 00:49|cache|3.75|✅|\n",
    "|calvo_machine_learn|2025-09-23 00:49|cache|17.95|✅|\n",
    "|cattle_cycles|2025-09-23 00:49|cache|3.82|✅|\n",
    "|chang_credible|2025-09-23 00:55|cache|341.91|✅|\n",
    "|chang_ramsey|2025-09-23 01:04|cache|536.48|✅|\n",
    "|classical_filtering|2025-09-23 01:04|cache|1.49|✅|\n",
    "|coase|2025-09-23 01:04|cache|3.97|✅|\n",
    "|cons_news|2025-09-23 01:04|cache|8.33|✅|\n",
    "|discrete_dp|2025-09-23 01:05|cache|28.99|✅|\n",
    "|dyn_stack|2025-09-23 01:05|cache|5.51|✅|\n",
    "|entropy|2025-09-23 01:05|cache|0.96|✅|\n",
    "|estspec|2025-09-23 01:05|cache|4.3|✅|\n",
    "|five_preferences|2025-09-23 01:06|cache|49.3|✅|\n",
    "|growth_in_dles|2025-09-23 01:06|cache|3.71|✅|\n",
    "|hs_invertibility_example|2025-09-23 01:06|cache|4.03|✅|\n",
    "|hs_recursive_models|2025-09-23 01:06|cache|0.94|✅|\n",
    "|intro|2025-09-23 01:06|cache|0.94|✅|\n",
    "|irfs_in_hall_model|2025-09-23 01:06|cache|3.86|✅|\n",
    "|knowing_forecasts_of_others|2025-09-23 01:07|cache|36.5|✅|\n",
    "|lqramsey|2025-09-23 01:07|cache|5.22|✅|\n",
    "|lu_tricks|2025-09-23 01:07|cache|2.11|✅|\n",
    "|lucas_asset_pricing_dles|2025-09-23 01:07|cache|3.76|✅|\n",
    "|lucas_model|2025-09-23 01:07|cache|9.58|✅|\n",
    "|markov_jump_lq|2025-09-23 01:08|cache|80.51|✅|\n",
    "|match_transport|2025-09-23 01:09|cache|22.2|✅|\n",
    "|matsuyama|2025-09-23 01:09|cache|6.63|✅|\n",
    "|muth_kalman|2025-09-23 01:09|cache|8.22|✅|\n",
    "|opt_tax_recur|2025-09-23 01:10|cache|68.48|✅|\n",
    "|orth_proj|2025-09-23 01:10|cache|1.23|✅|\n",
    "|permanent_income_dles|2025-09-23 01:10|cache|4.02|✅|\n",
    "|rob_markov_perf|2025-09-23 01:10|cache|3.9|✅|\n",
    "|robustness|2025-09-23 01:10|cache|4.58|✅|\n",
    "|rosen_schooling_model|2025-09-23 01:10|cache|3.8|✅|\n",
    "|smoothing|2025-09-23 01:10|cache|8.72|✅|\n",
    "|smoothing_tax|2025-09-23 01:11|cache|6.46|✅|\n",
    "|stationary_densities|2025-09-23 01:11|cache|8.13|✅|\n",
    "|status|2025-09-23 01:11|cache|4.11|✅|\n",
    "|tax_smoothing_1|2025-09-23 01:11|cache|11.24|✅|\n",
    "|tax_smoothing_2|2025-09-23 01:11|cache|4.4|✅|\n",
    "|tax_smoothing_3|2025-09-23 01:11|cache|4.4|✅|\n",
    "|troubleshooting|2025-09-23 01:06|cache|0.94|✅|\n",
    "|un_insure|2025-09-23 01:11|cache|12.46|✅|\n",
    "|zreferences|2025-09-23 01:06|cache|0.94|✅|\n",
    "\n",
    "<a id='status-machine-details'></a>\n",
    "These lectures are built on `linux` instances through `github actions`.\n",
    "\n",
    "These lectures are using the following python version"
   ]
  },
  {
   "cell_type": "code",
   "execution_count": null,
   "id": "f4274a37",
   "metadata": {
    "hide-output": false
   },
   "outputs": [],
   "source": [
    "!python --version"
   ]
  },
  {
   "cell_type": "markdown",
   "id": "ae65a4b6",
   "metadata": {},
   "source": [
    "and the following package versions"
   ]
  },
  {
   "cell_type": "code",
   "execution_count": null,
   "id": "06976a19",
   "metadata": {
    "hide-output": false
   },
   "outputs": [],
   "source": [
    "!conda list"
   ]
  }
 ],
 "metadata": {
  "date": 1758590892.4032571,
  "filename": "status.md",
  "kernelspec": {
   "display_name": "Python",
   "language": "python3",
   "name": "python3"
  },
  "title": "Execution Statistics"
 },
 "nbformat": 4,
 "nbformat_minor": 5
}