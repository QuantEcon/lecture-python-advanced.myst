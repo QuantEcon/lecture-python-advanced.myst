{
 "cells": [
  {
   "cell_type": "markdown",
   "id": "db233c27",
   "metadata": {},
   "source": [
    "# Execution Statistics\n",
    "\n",
    "This table contains the latest execution statistics.\n",
    "\n",
    "[](https://python-advanced.quantecon.org/BCG_complete_mkts.html)[](https://python-advanced.quantecon.org/BCG_incomplete_mkts.html)[](https://python-advanced.quantecon.org/additive_functionals.html)[](https://python-advanced.quantecon.org/amss.html)[](https://python-advanced.quantecon.org/amss2.html)[](https://python-advanced.quantecon.org/amss3.html)[](https://python-advanced.quantecon.org/arellano.html)[](https://python-advanced.quantecon.org/arma.html)[](https://python-advanced.quantecon.org/asset_pricing_lph.html)[](https://python-advanced.quantecon.org/black_litterman.html)[](https://python-advanced.quantecon.org/calvo.html)[](https://python-advanced.quantecon.org/calvo_abreu.html)[](https://python-advanced.quantecon.org/calvo_machine_learn.html)[](https://python-advanced.quantecon.org/cattle_cycles.html)[](https://python-advanced.quantecon.org/chang_credible.html)[](https://python-advanced.quantecon.org/chang_ramsey.html)[](https://python-advanced.quantecon.org/classical_filtering.html)[](https://python-advanced.quantecon.org/coase.html)[](https://python-advanced.quantecon.org/cons_news.html)[](https://python-advanced.quantecon.org/discrete_dp.html)[](https://python-advanced.quantecon.org/dyn_stack.html)[](https://python-advanced.quantecon.org/entropy.html)[](https://python-advanced.quantecon.org/estspec.html)[](https://python-advanced.quantecon.org/five_preferences.html)[](https://python-advanced.quantecon.org/growth_in_dles.html)[](https://python-advanced.quantecon.org/hs_invertibility_example.html)[](https://python-advanced.quantecon.org/hs_recursive_models.html)[](https://python-advanced.quantecon.org/intro.html)[](https://python-advanced.quantecon.org/irfs_in_hall_model.html)[](https://python-advanced.quantecon.org/knowing_forecasts_of_others.html)[](https://python-advanced.quantecon.org/lqramsey.html)[](https://python-advanced.quantecon.org/lu_tricks.html)[](https://python-advanced.quantecon.org/lucas_asset_pricing_dles.html)[](https://python-advanced.quantecon.org/lucas_model.html)[](https://python-advanced.quantecon.org/markov_jump_lq.html)[](https://python-advanced.quantecon.org/match_transport.html)[](https://python-advanced.quantecon.org/matsuyama.html)[](https://python-advanced.quantecon.org/muth_kalman.html)[](https://python-advanced.quantecon.org/opt_tax_recur.html)[](https://python-advanced.quantecon.org/orth_proj.html)[](https://python-advanced.quantecon.org/permanent_income_dles.html)[](https://python-advanced.quantecon.org/rob_markov_perf.html)[](https://python-advanced.quantecon.org/robustness.html)[](https://python-advanced.quantecon.org/rosen_schooling_model.html)[](https://python-advanced.quantecon.org/smoothing.html)[](https://python-advanced.quantecon.org/smoothing_tax.html)[](https://python-advanced.quantecon.org/stationary_densities.html)[](https://python-advanced.quantecon.org/.html)[](https://python-advanced.quantecon.org/tax_smoothing_1.html)[](https://python-advanced.quantecon.org/tax_smoothing_2.html)[](https://python-advanced.quantecon.org/tax_smoothing_3.html)[](https://python-advanced.quantecon.org/troubleshooting.html)[](https://python-advanced.quantecon.org/un_insure.html)[](https://python-advanced.quantecon.org/zreferences.html)|Document|Modified|Method|Run Time (s)|Status|\n",
    "|:------------------:|:------------------:|:------------------:|:------------------:|:------------------:|\n",
    "|BCG_complete_mkts|2024-12-30 03:14|cache|47.85|✅|\n",
    "|BCG_incomplete_mkts|2024-12-30 03:16|cache|91.46|✅|\n",
    "|additive_functionals|2024-12-30 03:16|cache|13.28|✅|\n",
    "|amss|2024-12-30 03:19|cache|183.34|✅|\n",
    "|amss2|2024-12-30 03:20|cache|58.43|✅|\n",
    "|amss3|2024-12-30 03:24|cache|267.25|✅|\n",
    "|arellano|2024-12-30 03:26|cache|79.2|✅|\n",
    "|arma|2024-12-30 03:26|cache|6.57|✅|\n",
    "|asset_pricing_lph|2024-12-30 03:26|cache|2.58|✅|\n",
    "|black_litterman|2024-12-30 03:27|cache|40.54|✅|\n",
    "|calvo|2025-01-04 02:31|cache|14.04|✅|\n",
    "|calvo_abreu|2024-12-30 03:27|cache|3.95|✅|\n",
    "|calvo_machine_learn|2024-12-30 03:27|cache|17.49|✅|\n",
    "|cattle_cycles|2024-12-30 03:27|cache|3.75|✅|\n",
    "|chang_credible|2024-12-30 03:30|cache|152.5|✅|\n",
    "|chang_ramsey|2024-12-30 03:35|cache|339.67|✅|\n",
    "|classical_filtering|2024-12-30 03:35|cache|1.35|✅|\n",
    "|coase|2024-12-30 03:35|cache|3.97|✅|\n",
    "|cons_news|2024-12-30 03:35|cache|3.89|✅|\n",
    "|discrete_dp|2024-12-30 03:36|cache|29.53|✅|\n",
    "|dyn_stack|2024-12-30 03:36|cache|5.36|✅|\n",
    "|entropy|2024-12-30 03:36|cache|4.02|✅|\n",
    "|estspec|2024-12-30 03:36|cache|4.55|✅|\n",
    "|five_preferences|2024-12-30 03:37|cache|37.58|✅|\n",
    "|growth_in_dles|2024-12-30 03:37|cache|3.59|✅|\n",
    "|hs_invertibility_example|2024-12-30 03:37|cache|3.86|✅|\n",
    "|hs_recursive_models|2024-12-30 03:37|cache|0.96|✅|\n",
    "|intro|2024-12-30 03:37|cache|0.96|✅|\n",
    "|irfs_in_hall_model|2024-12-30 03:37|cache|3.62|✅|\n",
    "|knowing_forecasts_of_others|2024-12-30 03:37|cache|22.0|✅|\n",
    "|lqramsey|2024-12-30 03:38|cache|5.19|✅|\n",
    "|lu_tricks|2024-12-30 03:38|cache|1.96|✅|\n",
    "|lucas_asset_pricing_dles|2024-12-30 03:38|cache|3.61|✅|\n",
    "|lucas_model|2024-12-30 03:38|cache|12.15|✅|\n",
    "|markov_jump_lq|2024-12-30 03:39|cache|75.53|✅|\n",
    "|match_transport|2024-12-30 03:39|cache|20.86|✅|\n",
    "|matsuyama|2024-12-30 03:40|cache|6.5|✅|\n",
    "|muth_kalman|2024-12-30 03:40|cache|3.87|✅|\n",
    "|opt_tax_recur|2024-12-30 03:41|cache|66.48|✅|\n",
    "|orth_proj|2024-12-30 03:41|cache|1.01|✅|\n",
    "|permanent_income_dles|2024-12-30 03:41|cache|3.63|✅|\n",
    "|rob_markov_perf|2024-12-30 03:41|cache|3.8|✅|\n",
    "|robustness|2024-12-30 03:41|cache|5.22|✅|\n",
    "|rosen_schooling_model|2024-12-30 03:41|cache|3.78|✅|\n",
    "|smoothing|2024-12-30 03:41|cache|4.0|✅|\n",
    "|smoothing_tax|2024-12-30 03:41|cache|5.96|✅|\n",
    "|stationary_densities|2024-12-30 03:41|cache|7.84|✅|\n",
    "|status|2024-12-30 03:41|cache|4.02|✅|\n",
    "|tax_smoothing_1|2024-12-30 03:42|cache|10.41|✅|\n",
    "|tax_smoothing_2|2024-12-30 03:42|cache|4.12|✅|\n",
    "|tax_smoothing_3|2024-12-30 03:42|cache|4.26|✅|\n",
    "|troubleshooting|2024-12-30 03:37|cache|0.96|✅|\n",
    "|un_insure|2024-12-30 03:42|cache|11.85|✅|\n",
    "|zreferences|2024-12-30 03:37|cache|0.96|✅|\n",
    "\n",
    "<a id='status-machine-details'></a>\n",
    "These lectures are built on `linux` instances through `github actions`.\n",
    "\n",
    "These lectures are using the following python version"
   ]
  },
  {
   "cell_type": "code",
   "execution_count": null,
   "id": "c54328f6",
   "metadata": {
    "hide-output": false
   },
   "outputs": [],
   "source": [
    "!python --version"
   ]
  },
  {
   "cell_type": "markdown",
   "id": "3eccc42b",
   "metadata": {},
   "source": [
    "and the following package versions"
   ]
  },
  {
   "cell_type": "code",
   "execution_count": null,
   "id": "49949609",
   "metadata": {
    "hide-output": false
   },
   "outputs": [],
   "source": [
    "!conda list"
   ]
  }
 ],
 "metadata": {
  "date": 1735958032.776454,
  "filename": "status.md",
  "kernelspec": {
   "display_name": "Python",
   "language": "python3",
   "name": "python3"
  },
  "title": "Execution Statistics"
 },
 "nbformat": 4,
 "nbformat_minor": 5
}