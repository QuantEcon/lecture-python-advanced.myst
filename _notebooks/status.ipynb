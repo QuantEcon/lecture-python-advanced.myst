{
 "cells": [
  {
   "cell_type": "markdown",
   "id": "1681ab52",
   "metadata": {},
   "source": [
    "# Execution Statistics\n",
    "\n",
    "This table contains the latest execution statistics.\n",
    "\n",
    "[](https://python-advanced.quantecon.org/BCG_complete_mkts.html)[](https://python-advanced.quantecon.org/BCG_incomplete_mkts.html)[](https://python-advanced.quantecon.org/additive_functionals.html)[](https://python-advanced.quantecon.org/amss.html)[](https://python-advanced.quantecon.org/amss2.html)[](https://python-advanced.quantecon.org/amss3.html)[](https://python-advanced.quantecon.org/arellano.html)[](https://python-advanced.quantecon.org/arma.html)[](https://python-advanced.quantecon.org/asset_pricing_lph.html)[](https://python-advanced.quantecon.org/black_litterman.html)[](https://python-advanced.quantecon.org/calvo.html)[](https://python-advanced.quantecon.org/calvo_abreu.html)[](https://python-advanced.quantecon.org/calvo_machine_learn.html)[](https://python-advanced.quantecon.org/cattle_cycles.html)[](https://python-advanced.quantecon.org/chang_credible.html)[](https://python-advanced.quantecon.org/chang_ramsey.html)[](https://python-advanced.quantecon.org/classical_filtering.html)[](https://python-advanced.quantecon.org/coase.html)[](https://python-advanced.quantecon.org/cons_news.html)[](https://python-advanced.quantecon.org/discrete_dp.html)[](https://python-advanced.quantecon.org/dyn_stack.html)[](https://python-advanced.quantecon.org/entropy.html)[](https://python-advanced.quantecon.org/estspec.html)[](https://python-advanced.quantecon.org/five_preferences.html)[](https://python-advanced.quantecon.org/growth_in_dles.html)[](https://python-advanced.quantecon.org/hs_invertibility_example.html)[](https://python-advanced.quantecon.org/hs_recursive_models.html)[](https://python-advanced.quantecon.org/intro.html)[](https://python-advanced.quantecon.org/irfs_in_hall_model.html)[](https://python-advanced.quantecon.org/knowing_forecasts_of_others.html)[](https://python-advanced.quantecon.org/lqramsey.html)[](https://python-advanced.quantecon.org/lu_tricks.html)[](https://python-advanced.quantecon.org/lucas_asset_pricing_dles.html)[](https://python-advanced.quantecon.org/lucas_model.html)[](https://python-advanced.quantecon.org/markov_jump_lq.html)[](https://python-advanced.quantecon.org/matsuyama.html)[](https://python-advanced.quantecon.org/muth_kalman.html)[](https://python-advanced.quantecon.org/opt_tax_recur.html)[](https://python-advanced.quantecon.org/orth_proj.html)[](https://python-advanced.quantecon.org/permanent_income_dles.html)[](https://python-advanced.quantecon.org/rob_markov_perf.html)[](https://python-advanced.quantecon.org/robustness.html)[](https://python-advanced.quantecon.org/rosen_schooling_model.html)[](https://python-advanced.quantecon.org/smoothing.html)[](https://python-advanced.quantecon.org/smoothing_tax.html)[](https://python-advanced.quantecon.org/stationary_densities.html)[](https://python-advanced.quantecon.org/.html)[](https://python-advanced.quantecon.org/tax_smoothing_1.html)[](https://python-advanced.quantecon.org/tax_smoothing_2.html)[](https://python-advanced.quantecon.org/tax_smoothing_3.html)[](https://python-advanced.quantecon.org/troubleshooting.html)[](https://python-advanced.quantecon.org/un_insure.html)[](https://python-advanced.quantecon.org/zreferences.html)|Document|Modified|Method|Run Time (s)|Status|\n",
    "|:------------------:|:------------------:|:------------------:|:------------------:|:------------------:|\n",
    "|BCG_complete_mkts|2024-12-05 22:24|cache|107.11|✅|\n",
    "|BCG_incomplete_mkts|2024-12-05 22:25|cache|88.5|✅|\n",
    "|additive_functionals|2024-12-05 22:25|cache|13.32|✅|\n",
    "|amss|2024-12-05 22:28|cache|185.0|✅|\n",
    "|amss2|2024-12-05 22:29|cache|59.99|✅|\n",
    "|amss3|2024-12-05 22:34|cache|269.79|✅|\n",
    "|arellano|2024-12-05 22:35|cache|80.11|✅|\n",
    "|arma|2024-12-05 22:35|cache|6.41|✅|\n",
    "|asset_pricing_lph|2024-12-05 22:35|cache|2.58|✅|\n",
    "|black_litterman|2024-12-05 22:36|cache|40.26|✅|\n",
    "|calvo|2024-12-05 22:36|cache|8.64|✅|\n",
    "|calvo_abreu|2024-12-05 22:36|cache|3.74|✅|\n",
    "|calvo_machine_learn|2024-12-05 22:37|cache|16.85|✅|\n",
    "|cattle_cycles|2024-12-05 22:37|cache|3.67|✅|\n",
    "|chang_credible|2024-12-05 22:39|cache|154.65|✅|\n",
    "|chang_ramsey|2024-12-05 22:45|cache|342.89|✅|\n",
    "|classical_filtering|2024-12-05 22:45|cache|1.46|✅|\n",
    "|coase|2024-12-05 22:45|cache|3.96|✅|\n",
    "|cons_news|2024-12-05 22:45|cache|4.12|✅|\n",
    "|discrete_dp|2024-12-05 22:46|cache|29.0|✅|\n",
    "|dyn_stack|2024-12-05 22:46|cache|5.63|✅|\n",
    "|entropy|2024-12-05 22:46|cache|0.78|✅|\n",
    "|estspec|2024-12-05 22:46|cache|4.47|✅|\n",
    "|five_preferences|2024-12-05 22:46|cache|37.91|✅|\n",
    "|growth_in_dles|2024-12-05 22:47|cache|3.54|✅|\n",
    "|hs_invertibility_example|2024-12-05 22:47|cache|4.05|✅|\n",
    "|hs_recursive_models|2024-12-05 22:47|cache|0.93|✅|\n",
    "|intro|2024-12-05 22:47|cache|0.93|✅|\n",
    "|irfs_in_hall_model|2024-12-05 22:47|cache|3.7|✅|\n",
    "|knowing_forecasts_of_others|2024-12-05 22:47|cache|22.66|✅|\n",
    "|lqramsey|2024-12-05 22:47|cache|5.03|✅|\n",
    "|lu_tricks|2024-12-05 22:47|cache|2.31|✅|\n",
    "|lucas_asset_pricing_dles|2024-12-05 22:47|cache|3.69|✅|\n",
    "|lucas_model|2024-12-05 22:47|cache|12.33|✅|\n",
    "|markov_jump_lq|2024-12-05 22:49|cache|75.43|✅|\n",
    "|matsuyama|2024-12-05 22:49|cache|6.51|✅|\n",
    "|muth_kalman|2024-12-05 22:49|cache|4.07|✅|\n",
    "|opt_tax_recur|2024-12-05 22:50|cache|67.58|✅|\n",
    "|orth_proj|2024-12-05 22:50|cache|1.23|✅|\n",
    "|permanent_income_dles|2024-12-05 22:50|cache|3.81|✅|\n",
    "|rob_markov_perf|2024-12-05 22:50|cache|3.79|✅|\n",
    "|robustness|2024-12-05 22:50|cache|5.25|✅|\n",
    "|rosen_schooling_model|2024-12-05 22:50|cache|3.77|✅|\n",
    "|smoothing|2024-12-05 22:50|cache|4.05|✅|\n",
    "|smoothing_tax|2024-12-05 22:51|cache|6.14|✅|\n",
    "|stationary_densities|2024-12-05 22:51|cache|7.97|✅|\n",
    "|status|2024-12-06 00:34|cache|4.53|✅|\n",
    "|tax_smoothing_1|2024-12-05 22:51|cache|10.44|✅|\n",
    "|tax_smoothing_2|2024-12-05 22:51|cache|4.22|✅|\n",
    "|tax_smoothing_3|2024-12-05 22:51|cache|4.22|✅|\n",
    "|troubleshooting|2024-12-05 22:47|cache|0.93|✅|\n",
    "|un_insure|2024-12-05 22:51|cache|11.99|✅|\n",
    "|zreferences|2024-12-05 22:47|cache|0.93|✅|\n",
    "\n",
    "<a id='status-machine-details'></a>\n",
    "These lectures are built on `linux` instances through `github actions`.\n",
    "\n",
    "These lectures are using the following python version"
   ]
  },
  {
   "cell_type": "code",
   "execution_count": null,
   "id": "523708cc",
   "metadata": {
    "hide-output": false
   },
   "outputs": [],
   "source": [
    "!python --version"
   ]
  },
  {
   "cell_type": "markdown",
   "id": "60708c78",
   "metadata": {},
   "source": [
    "and the following package versions"
   ]
  },
  {
   "cell_type": "code",
   "execution_count": null,
   "id": "bbe9b7ef",
   "metadata": {
    "hide-output": false
   },
   "outputs": [],
   "source": [
    "!conda list"
   ]
  }
 ],
 "metadata": {
  "date": 1733445467.6989484,
  "filename": "status.md",
  "kernelspec": {
   "display_name": "Python",
   "language": "python3",
   "name": "python3"
  },
  "title": "Execution Statistics"
 },
 "nbformat": 4,
 "nbformat_minor": 5
}