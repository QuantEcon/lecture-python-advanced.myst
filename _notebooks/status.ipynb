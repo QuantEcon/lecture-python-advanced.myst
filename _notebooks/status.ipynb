{
 "cells": [
  {
   "cell_type": "markdown",
   "id": "e14f4f5d",
   "metadata": {},
   "source": [
    "# Execution Statistics\n",
    "\n",
    "This table contains the latest execution statistics.\n",
    "\n",
    "[](https://python-advanced.quantecon.org/BCG_complete_mkts.html)[](https://python-advanced.quantecon.org/BCG_incomplete_mkts.html)[](https://python-advanced.quantecon.org/additive_functionals.html)[](https://python-advanced.quantecon.org/amss.html)[](https://python-advanced.quantecon.org/amss2.html)[](https://python-advanced.quantecon.org/amss3.html)[](https://python-advanced.quantecon.org/arellano.html)[](https://python-advanced.quantecon.org/arma.html)[](https://python-advanced.quantecon.org/asset_pricing_lph.html)[](https://python-advanced.quantecon.org/black_litterman.html)[](https://python-advanced.quantecon.org/calvo.html)[](https://python-advanced.quantecon.org/calvo_abreu.html)[](https://python-advanced.quantecon.org/calvo_machine_learn.html)[](https://python-advanced.quantecon.org/cattle_cycles.html)[](https://python-advanced.quantecon.org/chang_credible.html)[](https://python-advanced.quantecon.org/chang_ramsey.html)[](https://python-advanced.quantecon.org/classical_filtering.html)[](https://python-advanced.quantecon.org/coase.html)[](https://python-advanced.quantecon.org/cons_news.html)[](https://python-advanced.quantecon.org/discrete_dp.html)[](https://python-advanced.quantecon.org/dyn_stack.html)[](https://python-advanced.quantecon.org/entropy.html)[](https://python-advanced.quantecon.org/estspec.html)[](https://python-advanced.quantecon.org/five_preferences.html)[](https://python-advanced.quantecon.org/growth_in_dles.html)[](https://python-advanced.quantecon.org/hs_invertibility_example.html)[](https://python-advanced.quantecon.org/hs_recursive_models.html)[](https://python-advanced.quantecon.org/intro.html)[](https://python-advanced.quantecon.org/irfs_in_hall_model.html)[](https://python-advanced.quantecon.org/knowing_forecasts_of_others.html)[](https://python-advanced.quantecon.org/lqramsey.html)[](https://python-advanced.quantecon.org/lu_tricks.html)[](https://python-advanced.quantecon.org/lucas_asset_pricing_dles.html)[](https://python-advanced.quantecon.org/lucas_model.html)[](https://python-advanced.quantecon.org/markov_jump_lq.html)[](https://python-advanced.quantecon.org/match_transport.html)[](https://python-advanced.quantecon.org/matsuyama.html)[](https://python-advanced.quantecon.org/muth_kalman.html)[](https://python-advanced.quantecon.org/opt_tax_recur.html)[](https://python-advanced.quantecon.org/orth_proj.html)[](https://python-advanced.quantecon.org/permanent_income_dles.html)[](https://python-advanced.quantecon.org/rob_markov_perf.html)[](https://python-advanced.quantecon.org/robustness.html)[](https://python-advanced.quantecon.org/rosen_schooling_model.html)[](https://python-advanced.quantecon.org/smoothing.html)[](https://python-advanced.quantecon.org/smoothing_tax.html)[](https://python-advanced.quantecon.org/stationary_densities.html)[](https://python-advanced.quantecon.org/.html)[](https://python-advanced.quantecon.org/tax_smoothing_1.html)[](https://python-advanced.quantecon.org/tax_smoothing_2.html)[](https://python-advanced.quantecon.org/tax_smoothing_3.html)[](https://python-advanced.quantecon.org/troubleshooting.html)[](https://python-advanced.quantecon.org/un_insure.html)[](https://python-advanced.quantecon.org/zreferences.html)|Document|Modified|Method|Run Time (s)|Status|\n",
    "|:------------------:|:------------------:|:------------------:|:------------------:|:------------------:|\n",
    "|BCG_complete_mkts|2025-09-15 03:29|cache|73.46|✅|\n",
    "|BCG_incomplete_mkts|2025-09-15 03:31|cache|94.26|✅|\n",
    "|additive_functionals|2025-09-15 03:31|cache|13.99|✅|\n",
    "|amss|2025-09-15 03:34|cache|187.87|✅|\n",
    "|amss2|2025-09-15 03:35|cache|60.89|✅|\n",
    "|amss3|2025-09-15 03:39|cache|266.44|✅|\n",
    "|arellano|2025-09-15 03:41|cache|68.65|✅|\n",
    "|arma|2025-09-15 03:41|cache|6.7|✅|\n",
    "|asset_pricing_lph|2025-09-15 03:41|cache|2.48|✅|\n",
    "|black_litterman|2025-09-15 03:41|cache|31.55|✅|\n",
    "|calvo|2025-09-15 03:41|cache|8.9|✅|\n",
    "|calvo_abreu|2025-09-15 03:41|cache|3.97|✅|\n",
    "|calvo_machine_learn|2025-09-15 03:42|cache|18.14|✅|\n",
    "|cattle_cycles|2025-09-15 03:42|cache|3.73|✅|\n",
    "|chang_credible|2025-09-15 03:44|cache|155.91|✅|\n",
    "|chang_ramsey|2025-09-15 03:50|cache|349.63|✅|\n",
    "|classical_filtering|2025-09-15 03:50|cache|1.3|✅|\n",
    "|coase|2025-09-15 03:50|cache|3.62|✅|\n",
    "|cons_news|2025-09-15 03:50|cache|4.19|✅|\n",
    "|discrete_dp|2025-09-15 03:51|cache|29.25|✅|\n",
    "|dyn_stack|2025-09-15 03:51|cache|5.62|✅|\n",
    "|entropy|2025-09-15 03:51|cache|0.98|✅|\n",
    "|estspec|2025-09-15 03:51|cache|4.49|✅|\n",
    "|five_preferences|2025-09-15 03:52|cache|49.55|✅|\n",
    "|growth_in_dles|2025-09-15 03:52|cache|3.9|✅|\n",
    "|hs_invertibility_example|2025-09-15 03:52|cache|3.92|✅|\n",
    "|hs_recursive_models|2025-09-15 03:52|cache|0.98|✅|\n",
    "|intro|2025-09-15 03:52|cache|0.98|✅|\n",
    "|irfs_in_hall_model|2025-09-15 03:52|cache|3.92|✅|\n",
    "|knowing_forecasts_of_others|2025-09-15 03:53|cache|29.11|✅|\n",
    "|lqramsey|2025-09-15 03:53|cache|5.22|✅|\n",
    "|lu_tricks|2025-09-15 03:53|cache|2.15|✅|\n",
    "|lucas_asset_pricing_dles|2025-09-15 03:53|cache|3.65|✅|\n",
    "|lucas_model|2025-09-15 03:53|cache|12.45|✅|\n",
    "|markov_jump_lq|2025-09-15 03:54|cache|75.13|✅|\n",
    "|match_transport|2025-09-15 03:55|cache|21.8|✅|\n",
    "|matsuyama|2025-09-15 03:55|cache|6.78|✅|\n",
    "|muth_kalman|2025-09-15 03:55|cache|4.09|✅|\n",
    "|opt_tax_recur|2025-09-15 03:56|cache|68.79|✅|\n",
    "|orth_proj|2025-09-15 03:56|cache|1.26|✅|\n",
    "|permanent_income_dles|2025-09-15 03:56|cache|4.02|✅|\n",
    "|rob_markov_perf|2025-09-15 03:56|cache|3.72|✅|\n",
    "|robustness|2025-09-15 03:56|cache|4.36|✅|\n",
    "|rosen_schooling_model|2025-09-15 03:56|cache|3.9|✅|\n",
    "|smoothing|2025-09-15 03:56|cache|4.04|✅|\n",
    "|smoothing_tax|2025-09-15 03:56|cache|6.37|✅|\n",
    "|stationary_densities|2025-09-15 03:57|cache|7.94|✅|\n",
    "|status|2025-09-15 03:57|cache|4.22|✅|\n",
    "|tax_smoothing_1|2025-09-15 03:57|cache|11.05|✅|\n",
    "|tax_smoothing_2|2025-09-15 03:57|cache|4.53|✅|\n",
    "|tax_smoothing_3|2025-09-15 03:57|cache|4.39|✅|\n",
    "|troubleshooting|2025-09-15 03:52|cache|0.98|✅|\n",
    "|un_insure|2025-09-15 03:57|cache|12.17|✅|\n",
    "|zreferences|2025-09-15 03:52|cache|0.98|✅|\n",
    "\n",
    "<a id='status-machine-details'></a>\n",
    "These lectures are built on `linux` instances through `github actions`.\n",
    "\n",
    "These lectures are using the following python version"
   ]
  },
  {
   "cell_type": "code",
   "execution_count": null,
   "id": "461b16fc",
   "metadata": {
    "hide-output": false
   },
   "outputs": [],
   "source": [
    "!python --version"
   ]
  },
  {
   "cell_type": "markdown",
   "id": "a2330c22",
   "metadata": {},
   "source": [
    "and the following package versions"
   ]
  },
  {
   "cell_type": "code",
   "execution_count": null,
   "id": "8345655f",
   "metadata": {
    "hide-output": false
   },
   "outputs": [],
   "source": [
    "!conda list"
   ]
  }
 ],
 "metadata": {
  "date": 1758408152.57269,
  "filename": "status.md",
  "kernelspec": {
   "display_name": "Python",
   "language": "python3",
   "name": "python3"
  },
  "title": "Execution Statistics"
 },
 "nbformat": 4,
 "nbformat_minor": 5
}