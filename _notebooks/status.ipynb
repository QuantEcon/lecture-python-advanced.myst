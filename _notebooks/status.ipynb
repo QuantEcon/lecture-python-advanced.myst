{
 "cells": [
  {
   "cell_type": "markdown",
   "id": "59223b32",
   "metadata": {},
   "source": [
    "# Execution Statistics\n",
    "\n",
    "This table contains the latest execution statistics.\n",
    "\n",
    "[](https://python-advanced.quantecon.org/BCG_complete_mkts.html)[](https://python-advanced.quantecon.org/BCG_incomplete_mkts.html)[](https://python-advanced.quantecon.org/additive_functionals.html)[](https://python-advanced.quantecon.org/amss.html)[](https://python-advanced.quantecon.org/amss2.html)[](https://python-advanced.quantecon.org/amss3.html)[](https://python-advanced.quantecon.org/arellano.html)[](https://python-advanced.quantecon.org/arma.html)[](https://python-advanced.quantecon.org/asset_pricing_lph.html)[](https://python-advanced.quantecon.org/black_litterman.html)[](https://python-advanced.quantecon.org/calvo.html)[](https://python-advanced.quantecon.org/calvo_abreu.html)[](https://python-advanced.quantecon.org/calvo_machine_learn.html)[](https://python-advanced.quantecon.org/cattle_cycles.html)[](https://python-advanced.quantecon.org/chang_credible.html)[](https://python-advanced.quantecon.org/chang_ramsey.html)[](https://python-advanced.quantecon.org/classical_filtering.html)[](https://python-advanced.quantecon.org/coase.html)[](https://python-advanced.quantecon.org/cons_news.html)[](https://python-advanced.quantecon.org/discrete_dp.html)[](https://python-advanced.quantecon.org/dyn_stack.html)[](https://python-advanced.quantecon.org/entropy.html)[](https://python-advanced.quantecon.org/estspec.html)[](https://python-advanced.quantecon.org/five_preferences.html)[](https://python-advanced.quantecon.org/growth_in_dles.html)[](https://python-advanced.quantecon.org/hs_invertibility_example.html)[](https://python-advanced.quantecon.org/hs_recursive_models.html)[](https://python-advanced.quantecon.org/intro.html)[](https://python-advanced.quantecon.org/irfs_in_hall_model.html)[](https://python-advanced.quantecon.org/knowing_forecasts_of_others.html)[](https://python-advanced.quantecon.org/lqramsey.html)[](https://python-advanced.quantecon.org/lu_tricks.html)[](https://python-advanced.quantecon.org/lucas_asset_pricing_dles.html)[](https://python-advanced.quantecon.org/lucas_model.html)[](https://python-advanced.quantecon.org/markov_jump_lq.html)[](https://python-advanced.quantecon.org/match_transport.html)[](https://python-advanced.quantecon.org/matsuyama.html)[](https://python-advanced.quantecon.org/muth_kalman.html)[](https://python-advanced.quantecon.org/opt_tax_recur.html)[](https://python-advanced.quantecon.org/orth_proj.html)[](https://python-advanced.quantecon.org/permanent_income_dles.html)[](https://python-advanced.quantecon.org/rob_markov_perf.html)[](https://python-advanced.quantecon.org/robustness.html)[](https://python-advanced.quantecon.org/rosen_schooling_model.html)[](https://python-advanced.quantecon.org/smoothing.html)[](https://python-advanced.quantecon.org/smoothing_tax.html)[](https://python-advanced.quantecon.org/stationary_densities.html)[](https://python-advanced.quantecon.org/.html)[](https://python-advanced.quantecon.org/tax_smoothing_1.html)[](https://python-advanced.quantecon.org/tax_smoothing_2.html)[](https://python-advanced.quantecon.org/tax_smoothing_3.html)[](https://python-advanced.quantecon.org/troubleshooting.html)[](https://python-advanced.quantecon.org/un_insure.html)[](https://python-advanced.quantecon.org/zreferences.html)|Document|Modified|Method|Run Time (s)|Status|\n",
    "|:------------------:|:------------------:|:------------------:|:------------------:|:------------------:|\n",
    "|BCG_complete_mkts|2025-05-19 03:32|cache|49.42|✅|\n",
    "|BCG_incomplete_mkts|2025-05-19 03:34|cache|81.73|✅|\n",
    "|additive_functionals|2025-05-19 03:34|cache|13.22|✅|\n",
    "|amss|2025-05-19 03:37|cache|183.74|✅|\n",
    "|amss2|2025-05-19 03:38|cache|59.96|✅|\n",
    "|amss3|2025-05-19 03:42|cache|264.12|✅|\n",
    "|arellano|2025-05-19 03:44|cache|81.58|✅|\n",
    "|arma|2025-05-19 03:44|cache|6.64|✅|\n",
    "|asset_pricing_lph|2025-05-19 03:44|cache|2.65|✅|\n",
    "|black_litterman|2025-05-19 03:44|cache|31.32|✅|\n",
    "|calvo|2025-05-19 03:45|cache|8.73|✅|\n",
    "|calvo_abreu|2025-05-19 03:45|cache|3.88|✅|\n",
    "|calvo_machine_learn|2025-05-19 03:45|cache|17.02|✅|\n",
    "|cattle_cycles|2025-05-19 03:45|cache|3.75|✅|\n",
    "|chang_credible|2025-05-19 03:48|cache|155.65|✅|\n",
    "|chang_ramsey|2025-05-19 03:53|cache|341.83|✅|\n",
    "|classical_filtering|2025-05-19 03:53|cache|1.36|✅|\n",
    "|coase|2025-05-19 03:53|cache|3.87|✅|\n",
    "|cons_news|2025-05-19 03:53|cache|3.97|✅|\n",
    "|discrete_dp|2025-05-19 03:54|cache|29.39|✅|\n",
    "|dyn_stack|2025-05-19 03:54|cache|5.38|✅|\n",
    "|entropy|2025-05-19 03:54|cache|0.85|✅|\n",
    "|estspec|2025-05-19 03:54|cache|4.46|✅|\n",
    "|five_preferences|2025-05-19 03:55|cache|48.61|✅|\n",
    "|growth_in_dles|2025-05-19 03:55|cache|3.53|✅|\n",
    "|hs_invertibility_example|2025-05-19 03:55|cache|3.89|✅|\n",
    "|hs_recursive_models|2025-05-19 03:55|cache|1.04|✅|\n",
    "|intro|2025-05-19 03:55|cache|1.04|✅|\n",
    "|irfs_in_hall_model|2025-05-19 03:55|cache|3.76|✅|\n",
    "|knowing_forecasts_of_others|2025-05-19 03:55|cache|21.17|✅|\n",
    "|lqramsey|2025-05-20 05:59|cache|10.46|✅|\n",
    "|lu_tricks|2025-05-19 03:56|cache|2.24|✅|\n",
    "|lucas_asset_pricing_dles|2025-05-19 03:56|cache|3.4|✅|\n",
    "|lucas_model|2025-05-19 03:56|cache|12.29|✅|\n",
    "|markov_jump_lq|2025-05-19 03:57|cache|75.32|✅|\n",
    "|match_transport|2025-05-19 03:57|cache|21.13|✅|\n",
    "|matsuyama|2025-05-19 03:58|cache|6.55|✅|\n",
    "|muth_kalman|2025-05-19 03:58|cache|3.96|✅|\n",
    "|opt_tax_recur|2025-05-19 03:59|cache|66.87|✅|\n",
    "|orth_proj|2025-05-19 03:59|cache|1.13|✅|\n",
    "|permanent_income_dles|2025-05-19 03:59|cache|3.64|✅|\n",
    "|rob_markov_perf|2025-05-19 03:59|cache|3.57|✅|\n",
    "|robustness|2025-05-19 03:59|cache|4.21|✅|\n",
    "|rosen_schooling_model|2025-05-19 03:59|cache|3.6|✅|\n",
    "|smoothing|2025-05-19 03:59|cache|4.0|✅|\n",
    "|smoothing_tax|2025-05-19 03:59|cache|6.0|✅|\n",
    "|stationary_densities|2025-05-19 03:59|cache|7.89|✅|\n",
    "|status|2025-05-19 03:59|cache|4.07|✅|\n",
    "|tax_smoothing_1|2025-05-19 04:00|cache|10.36|✅|\n",
    "|tax_smoothing_2|2025-05-19 04:00|cache|4.15|✅|\n",
    "|tax_smoothing_3|2025-05-19 04:00|cache|4.18|✅|\n",
    "|troubleshooting|2025-05-19 03:55|cache|1.04|✅|\n",
    "|un_insure|2025-05-19 04:00|cache|12.33|✅|\n",
    "|zreferences|2025-05-19 03:55|cache|1.04|✅|\n",
    "\n",
    "<a id='status-machine-details'></a>\n",
    "These lectures are built on `linux` instances through `github actions`.\n",
    "\n",
    "These lectures are using the following python version"
   ]
  },
  {
   "cell_type": "code",
   "execution_count": null,
   "id": "8e38fc25",
   "metadata": {
    "hide-output": false
   },
   "outputs": [],
   "source": [
    "!python --version"
   ]
  },
  {
   "cell_type": "markdown",
   "id": "89c83a99",
   "metadata": {},
   "source": [
    "and the following package versions"
   ]
  },
  {
   "cell_type": "code",
   "execution_count": null,
   "id": "981fe43f",
   "metadata": {
    "hide-output": false
   },
   "outputs": [],
   "source": [
    "!conda list"
   ]
  }
 ],
 "metadata": {
  "date": 1747720945.8143494,
  "filename": "status.md",
  "kernelspec": {
   "display_name": "Python",
   "language": "python3",
   "name": "python3"
  },
  "title": "Execution Statistics"
 },
 "nbformat": 4,
 "nbformat_minor": 5
}