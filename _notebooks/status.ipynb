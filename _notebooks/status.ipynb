{
 "cells": [
  {
   "cell_type": "markdown",
   "id": "d1923092",
   "metadata": {},
   "source": [
    "# Execution Statistics\n",
    "\n",
    "This table contains the latest execution statistics.\n",
    "\n",
    "[](https://python-advanced.quantecon.org/BCG_complete_mkts.html)[](https://python-advanced.quantecon.org/BCG_incomplete_mkts.html)[](https://python-advanced.quantecon.org/additive_functionals.html)[](https://python-advanced.quantecon.org/amss.html)[](https://python-advanced.quantecon.org/amss2.html)[](https://python-advanced.quantecon.org/amss3.html)[](https://python-advanced.quantecon.org/arellano.html)[](https://python-advanced.quantecon.org/arma.html)[](https://python-advanced.quantecon.org/asset_pricing_lph.html)[](https://python-advanced.quantecon.org/black_litterman.html)[](https://python-advanced.quantecon.org/calvo.html)[](https://python-advanced.quantecon.org/calvo_abreu.html)[](https://python-advanced.quantecon.org/calvo_machine_learn.html)[](https://python-advanced.quantecon.org/cattle_cycles.html)[](https://python-advanced.quantecon.org/chang_credible.html)[](https://python-advanced.quantecon.org/chang_ramsey.html)[](https://python-advanced.quantecon.org/classical_filtering.html)[](https://python-advanced.quantecon.org/coase.html)[](https://python-advanced.quantecon.org/cons_news.html)[](https://python-advanced.quantecon.org/discrete_dp.html)[](https://python-advanced.quantecon.org/dyn_stack.html)[](https://python-advanced.quantecon.org/entropy.html)[](https://python-advanced.quantecon.org/estspec.html)[](https://python-advanced.quantecon.org/five_preferences.html)[](https://python-advanced.quantecon.org/growth_in_dles.html)[](https://python-advanced.quantecon.org/hs_invertibility_example.html)[](https://python-advanced.quantecon.org/hs_recursive_models.html)[](https://python-advanced.quantecon.org/intro.html)[](https://python-advanced.quantecon.org/irfs_in_hall_model.html)[](https://python-advanced.quantecon.org/knowing_forecasts_of_others.html)[](https://python-advanced.quantecon.org/lqramsey.html)[](https://python-advanced.quantecon.org/lu_tricks.html)[](https://python-advanced.quantecon.org/lucas_asset_pricing_dles.html)[](https://python-advanced.quantecon.org/lucas_model.html)[](https://python-advanced.quantecon.org/markov_jump_lq.html)[](https://python-advanced.quantecon.org/match_transport.html)[](https://python-advanced.quantecon.org/matsuyama.html)[](https://python-advanced.quantecon.org/muth_kalman.html)[](https://python-advanced.quantecon.org/opt_tax_recur.html)[](https://python-advanced.quantecon.org/orth_proj.html)[](https://python-advanced.quantecon.org/permanent_income_dles.html)[](https://python-advanced.quantecon.org/rob_markov_perf.html)[](https://python-advanced.quantecon.org/robustness.html)[](https://python-advanced.quantecon.org/rosen_schooling_model.html)[](https://python-advanced.quantecon.org/smoothing.html)[](https://python-advanced.quantecon.org/smoothing_tax.html)[](https://python-advanced.quantecon.org/stationary_densities.html)[](https://python-advanced.quantecon.org/.html)[](https://python-advanced.quantecon.org/tax_smoothing_1.html)[](https://python-advanced.quantecon.org/tax_smoothing_2.html)[](https://python-advanced.quantecon.org/tax_smoothing_3.html)[](https://python-advanced.quantecon.org/troubleshooting.html)[](https://python-advanced.quantecon.org/un_insure.html)[](https://python-advanced.quantecon.org/zreferences.html)|Document|Modified|Method|Run Time (s)|Status|\n",
    "|:------------------:|:------------------:|:------------------:|:------------------:|:------------------:|\n",
    "|BCG_complete_mkts|2024-12-16 03:24|cache|49.8|✅|\n",
    "|BCG_incomplete_mkts|2024-12-16 03:26|cache|89.49|✅|\n",
    "|additive_functionals|2024-12-16 03:26|cache|13.01|✅|\n",
    "|amss|2024-12-16 03:29|cache|189.25|✅|\n",
    "|amss2|2024-12-16 03:30|cache|60.86|✅|\n",
    "|amss3|2024-12-16 03:34|cache|267.87|✅|\n",
    "|arellano|2024-12-16 03:36|cache|79.66|✅|\n",
    "|arma|2024-12-16 03:36|cache|6.5|✅|\n",
    "|asset_pricing_lph|2024-12-16 03:36|cache|2.6|✅|\n",
    "|black_litterman|2024-12-16 03:37|cache|40.56|✅|\n",
    "|calvo|2024-12-16 03:37|cache|8.73|✅|\n",
    "|calvo_abreu|2024-12-16 03:37|cache|4.19|✅|\n",
    "|calvo_machine_learn|2024-12-16 03:37|cache|17.89|✅|\n",
    "|cattle_cycles|2024-12-16 03:37|cache|3.75|✅|\n",
    "|chang_credible|2024-12-16 03:40|cache|154.09|✅|\n",
    "|chang_ramsey|2024-12-16 03:45|cache|340.66|✅|\n",
    "|classical_filtering|2024-12-16 03:46|cache|1.36|✅|\n",
    "|coase|2024-12-16 03:46|cache|4.37|✅|\n",
    "|cons_news|2024-12-16 03:46|cache|4.41|✅|\n",
    "|discrete_dp|2024-12-16 03:46|cache|29.46|✅|\n",
    "|dyn_stack|2024-12-16 03:46|cache|5.59|✅|\n",
    "|entropy|2024-12-16 03:46|cache|0.99|✅|\n",
    "|estspec|2024-12-16 03:46|cache|4.64|✅|\n",
    "|five_preferences|2024-12-16 03:47|cache|39.63|✅|\n",
    "|growth_in_dles|2024-12-16 03:47|cache|4.02|✅|\n",
    "|hs_invertibility_example|2024-12-16 03:47|cache|4.33|✅|\n",
    "|hs_recursive_models|2024-12-16 03:47|cache|0.99|✅|\n",
    "|intro|2024-12-16 03:47|cache|0.99|✅|\n",
    "|irfs_in_hall_model|2024-12-16 03:47|cache|3.99|✅|\n",
    "|knowing_forecasts_of_others|2024-12-16 03:48|cache|24.0|✅|\n",
    "|lqramsey|2024-12-16 03:48|cache|5.44|✅|\n",
    "|lu_tricks|2024-12-16 03:48|cache|2.3|✅|\n",
    "|lucas_asset_pricing_dles|2024-12-16 03:48|cache|3.67|✅|\n",
    "|lucas_model|2024-12-16 03:48|cache|12.31|✅|\n",
    "|markov_jump_lq|2024-12-16 03:49|cache|73.89|✅|\n",
    "|match_transport|2024-12-22 04:54|cache|23.39|✅|\n",
    "|matsuyama|2024-12-16 03:49|cache|6.54|✅|\n",
    "|muth_kalman|2024-12-16 03:49|cache|4.02|✅|\n",
    "|opt_tax_recur|2024-12-16 03:51|cache|69.4|✅|\n",
    "|orth_proj|2024-12-16 03:51|cache|1.09|✅|\n",
    "|permanent_income_dles|2024-12-16 03:51|cache|3.91|✅|\n",
    "|rob_markov_perf|2024-12-16 03:51|cache|3.87|✅|\n",
    "|robustness|2024-12-16 03:51|cache|5.4|✅|\n",
    "|rosen_schooling_model|2024-12-16 03:51|cache|3.8|✅|\n",
    "|smoothing|2024-12-16 03:51|cache|4.23|✅|\n",
    "|smoothing_tax|2024-12-16 03:51|cache|6.48|✅|\n",
    "|stationary_densities|2024-12-16 03:51|cache|8.08|✅|\n",
    "|status|2024-12-16 03:51|cache|4.35|✅|\n",
    "|tax_smoothing_1|2024-12-16 03:52|cache|10.46|✅|\n",
    "|tax_smoothing_2|2024-12-16 03:52|cache|4.58|✅|\n",
    "|tax_smoothing_3|2024-12-16 03:52|cache|4.51|✅|\n",
    "|troubleshooting|2024-12-16 03:47|cache|0.99|✅|\n",
    "|un_insure|2024-12-16 03:52|cache|12.13|✅|\n",
    "|zreferences|2024-12-16 03:47|cache|0.99|✅|\n",
    "\n",
    "<a id='status-machine-details'></a>\n",
    "These lectures are built on `linux` instances through `github actions`.\n",
    "\n",
    "These lectures are using the following python version"
   ]
  },
  {
   "cell_type": "code",
   "execution_count": null,
   "id": "8937a654",
   "metadata": {
    "hide-output": false
   },
   "outputs": [],
   "source": [
    "!python --version"
   ]
  },
  {
   "cell_type": "markdown",
   "id": "8b48a150",
   "metadata": {},
   "source": [
    "and the following package versions"
   ]
  },
  {
   "cell_type": "code",
   "execution_count": null,
   "id": "1559de38",
   "metadata": {
    "hide-output": false
   },
   "outputs": [],
   "source": [
    "!conda list"
   ]
  }
 ],
 "metadata": {
  "date": 1734843463.1557753,
  "filename": "status.md",
  "kernelspec": {
   "display_name": "Python",
   "language": "python3",
   "name": "python3"
  },
  "title": "Execution Statistics"
 },
 "nbformat": 4,
 "nbformat_minor": 5
}